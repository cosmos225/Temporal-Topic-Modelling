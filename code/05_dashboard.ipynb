{
 "cells": [
  {
   "cell_type": "markdown",
   "id": "c76b5412",
   "metadata": {
    "id": "c76b5412"
   },
   "source": [
    "# Journal Trends Dashboard\n",
    "\n",
    "This notebooks build the journal trends dashboard."
   ]
  },
  {
   "cell_type": "code",
   "execution_count": 1,
   "id": "tXK320SYFb5i",
   "metadata": {
    "colab": {
     "base_uri": "https://localhost:8080/"
    },
    "executionInfo": {
     "elapsed": 1251,
     "status": "ok",
     "timestamp": 1676251291077,
     "user": {
      "displayName": "Shridhar Kshirsagar",
      "userId": "07304630140660921448"
     },
     "user_tz": 360
    },
    "id": "tXK320SYFb5i",
    "outputId": "17996e90-1dda-45f6-cf72-4f84f9f68e59"
   },
   "outputs": [],
   "source": [
    "#from google.colab import drive\n",
    "#drive.mount('/content/drive')"
   ]
  },
  {
   "cell_type": "code",
   "execution_count": 2,
   "id": "a6bRFat2m6dC",
   "metadata": {
    "colab": {
     "base_uri": "https://localhost:8080/"
    },
    "executionInfo": {
     "elapsed": 15,
     "status": "ok",
     "timestamp": 1676251291078,
     "user": {
      "displayName": "Shridhar Kshirsagar",
      "userId": "07304630140660921448"
     },
     "user_tz": 360
    },
    "id": "a6bRFat2m6dC",
    "outputId": "b6548798-1202-4604-8e79-1ddd8f6b3106"
   },
   "outputs": [],
   "source": [
    "#cd drive/MyDrive/Special\\ Problems\\ -\\ Trending\\ Reports\\ in\\ AI"
   ]
  },
  {
   "cell_type": "code",
   "execution_count": 3,
   "id": "h7PNRW7Pm8-g",
   "metadata": {
    "colab": {
     "base_uri": "https://localhost:8080/"
    },
    "executionInfo": {
     "elapsed": 11,
     "status": "ok",
     "timestamp": 1676251291079,
     "user": {
      "displayName": "Shridhar Kshirsagar",
      "userId": "07304630140660921448"
     },
     "user_tz": 360
    },
    "id": "h7PNRW7Pm8-g",
    "outputId": "1a5794f8-34f9-4e37-a02e-96e9cb39be69"
   },
   "outputs": [],
   "source": [
    "#cd 'AI Trending Topics'"
   ]
  },
  {
   "cell_type": "code",
   "execution_count": 4,
   "id": "c2722176",
   "metadata": {
    "executionInfo": {
     "elapsed": 95,
     "status": "ok",
     "timestamp": 1676251291167,
     "user": {
      "displayName": "Shridhar Kshirsagar",
      "userId": "07304630140660921448"
     },
     "user_tz": 360
    },
    "id": "c2722176"
   },
   "outputs": [],
   "source": [
    "import datetime\n",
    "import pandas as pd\n",
    "import numpy as np\n",
    "import warnings\n",
    "warnings.filterwarnings('ignore')\n",
    "import dash\n",
    "import dash_core_components as dcc\n",
    "import dash_html_components as html"
   ]
  },
  {
   "cell_type": "code",
   "execution_count": 5,
   "id": "26jhtoBXC57s",
   "metadata": {
    "executionInfo": {
     "elapsed": 5,
     "status": "ok",
     "timestamp": 1676251291168,
     "user": {
      "displayName": "Shridhar Kshirsagar",
      "userId": "07304630140660921448"
     },
     "user_tz": 360
    },
    "id": "26jhtoBXC57s"
   },
   "outputs": [],
   "source": [
    "#import sys\n",
    "#sys.path.append('/content/drive/MyDrive/Trending-Topics-Dashboard-main-1')"
   ]
  },
  {
   "cell_type": "markdown",
   "id": "165b4224",
   "metadata": {
    "id": "165b4224"
   },
   "source": [
    "## Import Data"
   ]
  },
  {
   "cell_type": "markdown",
   "id": "5d94ebf1",
   "metadata": {
    "id": "5d94ebf1"
   },
   "source": [
    "Load dataset for building the Data Tab dashboard."
   ]
  },
  {
   "cell_type": "code",
   "execution_count": 6,
   "id": "f535c19a",
   "metadata": {
    "executionInfo": {
     "elapsed": 123,
     "status": "ok",
     "timestamp": 1676251291287,
     "user": {
      "displayName": "Shridhar Kshirsagar",
      "userId": "07304630140660921448"
     },
     "user_tz": 360
    },
    "id": "f535c19a"
   },
   "outputs": [],
   "source": [
    "# cleaned data\n",
    "data = pd.read_csv('../extracted_files/data_cleaned.csv')\n",
    "\n",
    "# get number of articles distribution per Year\n",
    "article_dist = pd.DataFrame(data['Year'].value_counts().reset_index()).rename(columns=\n",
    "                                                                            {'Year':'Number of Articles',\n",
    "                                                                             'index':'Year'})\n",
    "article_dist.sort_values(by=['Year'], inplace=True)\n",
    "\n",
    "# list of keywords for each Year\n",
    "keywords_per_year = pd.read_csv('../extracted_files/keywords_per_year.csv')\n",
    "keywords_dist = pd.read_csv('../extracted_files/keywords_dist_per_year.csv')\n",
    "\n",
    "# keyword counts\n",
    "keyword_counts = pd.read_csv('../extracted_files/keyword_counts.csv')\n",
    "\n",
    "# vocabulary file\n",
    "vocabulary = pd.read_csv('../extracted_files/Vocabulary.csv')\n",
    "vocabulary.sort_values(by=['Term'], inplace=True)\n",
    "\n",
    "trending_topics = pd.read_csv('../code/trending_topics_0.57.csv')\n",
    "trending_topics.sort_values(by=['Year'], inplace=True)\n",
    "\n",
    "second_trending_topics = pd.read_csv('../code/second_trending_topic_0.57.csv')\n",
    "second_trending_topics.sort_values(by=['Year'], inplace=True)"
   ]
  },
  {
   "cell_type": "code",
   "execution_count": 7,
   "id": "J7FQIf02GfQy",
   "metadata": {
    "colab": {
     "base_uri": "https://localhost:8080/",
     "height": 354
    },
    "executionInfo": {
     "elapsed": 10,
     "status": "ok",
     "timestamp": 1676251291385,
     "user": {
      "displayName": "Shridhar Kshirsagar",
      "userId": "07304630140660921448"
     },
     "user_tz": 360
    },
    "id": "J7FQIf02GfQy",
    "outputId": "aff0229e-c1bf-412e-b8db-98667c403378"
   },
   "outputs": [
    {
     "data": {
      "text/html": [
       "<div>\n",
       "<style scoped>\n",
       "    .dataframe tbody tr th:only-of-type {\n",
       "        vertical-align: middle;\n",
       "    }\n",
       "\n",
       "    .dataframe tbody tr th {\n",
       "        vertical-align: top;\n",
       "    }\n",
       "\n",
       "    .dataframe thead th {\n",
       "        text-align: right;\n",
       "    }\n",
       "</style>\n",
       "<table border=\"1\" class=\"dataframe\">\n",
       "  <thead>\n",
       "    <tr style=\"text-align: right;\">\n",
       "      <th></th>\n",
       "      <th>Year</th>\n",
       "      <th>Year_Scaled</th>\n",
       "      <th>Year_STD</th>\n",
       "      <th>Month</th>\n",
       "      <th>Keywords</th>\n",
       "      <th>Abstract</th>\n",
       "      <th>Abstract_Cleaned</th>\n",
       "      <th>Abstract Length</th>\n",
       "      <th>Keywords_Cleaned</th>\n",
       "      <th>Number of Keywords</th>\n",
       "      <th>Month_Cleaned</th>\n",
       "    </tr>\n",
       "  </thead>\n",
       "  <tbody>\n",
       "    <tr>\n",
       "      <th>0</th>\n",
       "      <td>2021</td>\n",
       "      <td>2021</td>\n",
       "      <td>566.928668</td>\n",
       "      <td>January</td>\n",
       "      <td>Motion segmentation,Computer vision,Transmissi...</td>\n",
       "      <td>Many real-world video sequences cannot be conv...</td>\n",
       "      <td>Many real world video sequence cannot convenie...</td>\n",
       "      <td>1594</td>\n",
       "      <td>['Motion segmentation', 'Computer vision', 'Tr...</td>\n",
       "      <td>11</td>\n",
       "      <td>1</td>\n",
       "    </tr>\n",
       "    <tr>\n",
       "      <th>1</th>\n",
       "      <td>2021</td>\n",
       "      <td>2021</td>\n",
       "      <td>566.928668</td>\n",
       "      <td>January</td>\n",
       "      <td>Generative adversarial networks,Generators,Gal...</td>\n",
       "      <td>Generative adversarial networks (GAN) are trai...</td>\n",
       "      <td>Generative adversarial network  GAN  trained m...</td>\n",
       "      <td>955</td>\n",
       "      <td>['Generative adversarial networks', 'Generator...</td>\n",
       "      <td>11</td>\n",
       "      <td>1</td>\n",
       "    </tr>\n",
       "    <tr>\n",
       "      <th>2</th>\n",
       "      <td>2021</td>\n",
       "      <td>2021</td>\n",
       "      <td>566.928668</td>\n",
       "      <td>January</td>\n",
       "      <td>Convolution,Task analysis,Image resolution,Acc...</td>\n",
       "      <td>Many different deep networks have been used to...</td>\n",
       "      <td>Many different deep network used approximate  ...</td>\n",
       "      <td>1393</td>\n",
       "      <td>['Convolution', 'Task analysis', 'Image resolu...</td>\n",
       "      <td>11</td>\n",
       "      <td>1</td>\n",
       "    </tr>\n",
       "    <tr>\n",
       "      <th>3</th>\n",
       "      <td>2021</td>\n",
       "      <td>2021</td>\n",
       "      <td>566.928668</td>\n",
       "      <td>January</td>\n",
       "      <td>Ellipsoids,Shape,Rendering ,computer graphics,...</td>\n",
       "      <td>This paper presents a precise, stable, and inv...</td>\n",
       "      <td>This paper present precise  stable  invertible...</td>\n",
       "      <td>914</td>\n",
       "      <td>['Ellipsoids', 'Shape', 'Rendering ', 'compute...</td>\n",
       "      <td>12</td>\n",
       "      <td>1</td>\n",
       "    </tr>\n",
       "    <tr>\n",
       "      <th>4</th>\n",
       "      <td>2021</td>\n",
       "      <td>2021</td>\n",
       "      <td>566.928668</td>\n",
       "      <td>January</td>\n",
       "      <td>Bayes methods,Principal component analysis,Ada...</td>\n",
       "      <td>Robust tensor factorization is a fundamental p...</td>\n",
       "      <td>Robust tensor factorization fundamental proble...</td>\n",
       "      <td>1300</td>\n",
       "      <td>['Bayes methods', 'Principal component analysi...</td>\n",
       "      <td>11</td>\n",
       "      <td>1</td>\n",
       "    </tr>\n",
       "  </tbody>\n",
       "</table>\n",
       "</div>"
      ],
      "text/plain": [
       "   Year  Year_Scaled    Year_STD    Month  \\\n",
       "0  2021         2021  566.928668  January   \n",
       "1  2021         2021  566.928668  January   \n",
       "2  2021         2021  566.928668  January   \n",
       "3  2021         2021  566.928668  January   \n",
       "4  2021         2021  566.928668  January   \n",
       "\n",
       "                                            Keywords  \\\n",
       "0  Motion segmentation,Computer vision,Transmissi...   \n",
       "1  Generative adversarial networks,Generators,Gal...   \n",
       "2  Convolution,Task analysis,Image resolution,Acc...   \n",
       "3  Ellipsoids,Shape,Rendering ,computer graphics,...   \n",
       "4  Bayes methods,Principal component analysis,Ada...   \n",
       "\n",
       "                                            Abstract  \\\n",
       "0  Many real-world video sequences cannot be conv...   \n",
       "1  Generative adversarial networks (GAN) are trai...   \n",
       "2  Many different deep networks have been used to...   \n",
       "3  This paper presents a precise, stable, and inv...   \n",
       "4  Robust tensor factorization is a fundamental p...   \n",
       "\n",
       "                                    Abstract_Cleaned  Abstract Length  \\\n",
       "0  Many real world video sequence cannot convenie...             1594   \n",
       "1  Generative adversarial network  GAN  trained m...              955   \n",
       "2  Many different deep network used approximate  ...             1393   \n",
       "3  This paper present precise  stable  invertible...              914   \n",
       "4  Robust tensor factorization fundamental proble...             1300   \n",
       "\n",
       "                                    Keywords_Cleaned  Number of Keywords  \\\n",
       "0  ['Motion segmentation', 'Computer vision', 'Tr...                  11   \n",
       "1  ['Generative adversarial networks', 'Generator...                  11   \n",
       "2  ['Convolution', 'Task analysis', 'Image resolu...                  11   \n",
       "3  ['Ellipsoids', 'Shape', 'Rendering ', 'compute...                  12   \n",
       "4  ['Bayes methods', 'Principal component analysi...                  11   \n",
       "\n",
       "   Month_Cleaned  \n",
       "0              1  \n",
       "1              1  \n",
       "2              1  \n",
       "3              1  \n",
       "4              1  "
      ]
     },
     "execution_count": 7,
     "metadata": {},
     "output_type": "execute_result"
    }
   ],
   "source": [
    "data.head()"
   ]
  },
  {
   "cell_type": "code",
   "execution_count": 8,
   "id": "9e781cf1",
   "metadata": {},
   "outputs": [
    {
     "data": {
      "text/html": [
       "<div>\n",
       "<style scoped>\n",
       "    .dataframe tbody tr th:only-of-type {\n",
       "        vertical-align: middle;\n",
       "    }\n",
       "\n",
       "    .dataframe tbody tr th {\n",
       "        vertical-align: top;\n",
       "    }\n",
       "\n",
       "    .dataframe thead th {\n",
       "        text-align: right;\n",
       "    }\n",
       "</style>\n",
       "<table border=\"1\" class=\"dataframe\">\n",
       "  <thead>\n",
       "    <tr style=\"text-align: right;\">\n",
       "      <th></th>\n",
       "      <th>Year</th>\n",
       "      <th>Topic Id</th>\n",
       "      <th>Number of Articles</th>\n",
       "      <th>Keywords</th>\n",
       "    </tr>\n",
       "  </thead>\n",
       "  <tbody>\n",
       "    <tr>\n",
       "      <th>0</th>\n",
       "      <td>2010</td>\n",
       "      <td>1</td>\n",
       "      <td>138</td>\n",
       "      <td>Artificial intelligence, Training, Task analys...</td>\n",
       "    </tr>\n",
       "    <tr>\n",
       "      <th>1</th>\n",
       "      <td>2011</td>\n",
       "      <td>1</td>\n",
       "      <td>150</td>\n",
       "      <td>Artificial intelligence, Training, Task analys...</td>\n",
       "    </tr>\n",
       "    <tr>\n",
       "      <th>2</th>\n",
       "      <td>2012</td>\n",
       "      <td>1</td>\n",
       "      <td>166</td>\n",
       "      <td>Artificial intelligence, Training, Task analys...</td>\n",
       "    </tr>\n",
       "    <tr>\n",
       "      <th>3</th>\n",
       "      <td>2013</td>\n",
       "      <td>1</td>\n",
       "      <td>170</td>\n",
       "      <td>Artificial intelligence, Training, Task analys...</td>\n",
       "    </tr>\n",
       "    <tr>\n",
       "      <th>4</th>\n",
       "      <td>2014</td>\n",
       "      <td>1</td>\n",
       "      <td>148</td>\n",
       "      <td>Artificial intelligence, Training, Task analys...</td>\n",
       "    </tr>\n",
       "    <tr>\n",
       "      <th>5</th>\n",
       "      <td>2015</td>\n",
       "      <td>1</td>\n",
       "      <td>302</td>\n",
       "      <td>Artificial intelligence, Training, Task analys...</td>\n",
       "    </tr>\n",
       "    <tr>\n",
       "      <th>6</th>\n",
       "      <td>2016</td>\n",
       "      <td>1</td>\n",
       "      <td>295</td>\n",
       "      <td>Artificial intelligence, Training, Task analys...</td>\n",
       "    </tr>\n",
       "    <tr>\n",
       "      <th>7</th>\n",
       "      <td>2017</td>\n",
       "      <td>1</td>\n",
       "      <td>268</td>\n",
       "      <td>Artificial intelligence, Training, Task analys...</td>\n",
       "    </tr>\n",
       "    <tr>\n",
       "      <th>8</th>\n",
       "      <td>2018</td>\n",
       "      <td>1</td>\n",
       "      <td>334</td>\n",
       "      <td>Artificial intelligence, Training, Task analys...</td>\n",
       "    </tr>\n",
       "    <tr>\n",
       "      <th>9</th>\n",
       "      <td>2019</td>\n",
       "      <td>1</td>\n",
       "      <td>322</td>\n",
       "      <td>Artificial intelligence, Training, Task analys...</td>\n",
       "    </tr>\n",
       "    <tr>\n",
       "      <th>10</th>\n",
       "      <td>2020</td>\n",
       "      <td>1</td>\n",
       "      <td>333</td>\n",
       "      <td>Artificial intelligence, Training, Task analys...</td>\n",
       "    </tr>\n",
       "    <tr>\n",
       "      <th>11</th>\n",
       "      <td>2021</td>\n",
       "      <td>1</td>\n",
       "      <td>399</td>\n",
       "      <td>Artificial intelligence, Training, Task analys...</td>\n",
       "    </tr>\n",
       "    <tr>\n",
       "      <th>12</th>\n",
       "      <td>2022</td>\n",
       "      <td>1</td>\n",
       "      <td>395</td>\n",
       "      <td>Artificial intelligence, Training, Task analys...</td>\n",
       "    </tr>\n",
       "    <tr>\n",
       "      <th>13</th>\n",
       "      <td>2023</td>\n",
       "      <td>1</td>\n",
       "      <td>68</td>\n",
       "      <td>Artificial intelligence, Training, Task analys...</td>\n",
       "    </tr>\n",
       "  </tbody>\n",
       "</table>\n",
       "</div>"
      ],
      "text/plain": [
       "    Year  Topic Id  Number of Articles  \\\n",
       "0   2010         1                 138   \n",
       "1   2011         1                 150   \n",
       "2   2012         1                 166   \n",
       "3   2013         1                 170   \n",
       "4   2014         1                 148   \n",
       "5   2015         1                 302   \n",
       "6   2016         1                 295   \n",
       "7   2017         1                 268   \n",
       "8   2018         1                 334   \n",
       "9   2019         1                 322   \n",
       "10  2020         1                 333   \n",
       "11  2021         1                 399   \n",
       "12  2022         1                 395   \n",
       "13  2023         1                  68   \n",
       "\n",
       "                                             Keywords  \n",
       "0   Artificial intelligence, Training, Task analys...  \n",
       "1   Artificial intelligence, Training, Task analys...  \n",
       "2   Artificial intelligence, Training, Task analys...  \n",
       "3   Artificial intelligence, Training, Task analys...  \n",
       "4   Artificial intelligence, Training, Task analys...  \n",
       "5   Artificial intelligence, Training, Task analys...  \n",
       "6   Artificial intelligence, Training, Task analys...  \n",
       "7   Artificial intelligence, Training, Task analys...  \n",
       "8   Artificial intelligence, Training, Task analys...  \n",
       "9   Artificial intelligence, Training, Task analys...  \n",
       "10  Artificial intelligence, Training, Task analys...  \n",
       "11  Artificial intelligence, Training, Task analys...  \n",
       "12  Artificial intelligence, Training, Task analys...  \n",
       "13  Artificial intelligence, Training, Task analys...  "
      ]
     },
     "execution_count": 8,
     "metadata": {},
     "output_type": "execute_result"
    }
   ],
   "source": [
    "trending_topics"
   ]
  },
  {
   "cell_type": "code",
   "execution_count": 9,
   "id": "0606b2c7",
   "metadata": {},
   "outputs": [
    {
     "data": {
      "text/html": [
       "<div>\n",
       "<style scoped>\n",
       "    .dataframe tbody tr th:only-of-type {\n",
       "        vertical-align: middle;\n",
       "    }\n",
       "\n",
       "    .dataframe tbody tr th {\n",
       "        vertical-align: top;\n",
       "    }\n",
       "\n",
       "    .dataframe thead th {\n",
       "        text-align: right;\n",
       "    }\n",
       "</style>\n",
       "<table border=\"1\" class=\"dataframe\">\n",
       "  <thead>\n",
       "    <tr style=\"text-align: right;\">\n",
       "      <th></th>\n",
       "      <th>Year</th>\n",
       "      <th>Topic Id</th>\n",
       "      <th>Number of Articles</th>\n",
       "      <th>Keywords</th>\n",
       "    </tr>\n",
       "  </thead>\n",
       "  <tbody>\n",
       "    <tr>\n",
       "      <th>0</th>\n",
       "      <td>2010</td>\n",
       "      <td>15</td>\n",
       "      <td>19</td>\n",
       "      <td>speech recognition, speaker recognition, LDA, ...</td>\n",
       "    </tr>\n",
       "    <tr>\n",
       "      <th>1</th>\n",
       "      <td>2011</td>\n",
       "      <td>13</td>\n",
       "      <td>18</td>\n",
       "      <td>structure from motion, 3D reconstruction, SLAM...</td>\n",
       "    </tr>\n",
       "    <tr>\n",
       "      <th>2</th>\n",
       "      <td>2012</td>\n",
       "      <td>15</td>\n",
       "      <td>15</td>\n",
       "      <td>speech recognition, speaker recognition, LDA, ...</td>\n",
       "    </tr>\n",
       "    <tr>\n",
       "      <th>3</th>\n",
       "      <td>2013</td>\n",
       "      <td>15</td>\n",
       "      <td>23</td>\n",
       "      <td>speech recognition, speaker recognition, LDA, ...</td>\n",
       "    </tr>\n",
       "    <tr>\n",
       "      <th>4</th>\n",
       "      <td>2014</td>\n",
       "      <td>13</td>\n",
       "      <td>17</td>\n",
       "      <td>structure from motion, 3D reconstruction, SLAM...</td>\n",
       "    </tr>\n",
       "    <tr>\n",
       "      <th>5</th>\n",
       "      <td>2015</td>\n",
       "      <td>15</td>\n",
       "      <td>33</td>\n",
       "      <td>speech recognition, speaker recognition, LDA, ...</td>\n",
       "    </tr>\n",
       "    <tr>\n",
       "      <th>6</th>\n",
       "      <td>2016</td>\n",
       "      <td>15</td>\n",
       "      <td>40</td>\n",
       "      <td>speech recognition, speaker recognition, LDA, ...</td>\n",
       "    </tr>\n",
       "    <tr>\n",
       "      <th>7</th>\n",
       "      <td>2017</td>\n",
       "      <td>13</td>\n",
       "      <td>38</td>\n",
       "      <td>structure from motion, 3D reconstruction, SLAM...</td>\n",
       "    </tr>\n",
       "    <tr>\n",
       "      <th>8</th>\n",
       "      <td>2018</td>\n",
       "      <td>15</td>\n",
       "      <td>30</td>\n",
       "      <td>speech recognition, speaker recognition, LDA, ...</td>\n",
       "    </tr>\n",
       "    <tr>\n",
       "      <th>9</th>\n",
       "      <td>2019</td>\n",
       "      <td>13</td>\n",
       "      <td>30</td>\n",
       "      <td>structure from motion, 3D reconstruction, SLAM...</td>\n",
       "    </tr>\n",
       "    <tr>\n",
       "      <th>10</th>\n",
       "      <td>2020</td>\n",
       "      <td>14</td>\n",
       "      <td>40</td>\n",
       "      <td>Computational modeling, Computer vision, 5G mo...</td>\n",
       "    </tr>\n",
       "    <tr>\n",
       "      <th>11</th>\n",
       "      <td>2021</td>\n",
       "      <td>14</td>\n",
       "      <td>57</td>\n",
       "      <td>Computational modeling, Computer vision, 5G mo...</td>\n",
       "    </tr>\n",
       "    <tr>\n",
       "      <th>12</th>\n",
       "      <td>2022</td>\n",
       "      <td>14</td>\n",
       "      <td>53</td>\n",
       "      <td>Computational modeling, Computer vision, 5G mo...</td>\n",
       "    </tr>\n",
       "    <tr>\n",
       "      <th>13</th>\n",
       "      <td>2023</td>\n",
       "      <td>14</td>\n",
       "      <td>11</td>\n",
       "      <td>Computational modeling, Computer vision, 5G mo...</td>\n",
       "    </tr>\n",
       "  </tbody>\n",
       "</table>\n",
       "</div>"
      ],
      "text/plain": [
       "    Year  Topic Id  Number of Articles  \\\n",
       "0   2010        15                  19   \n",
       "1   2011        13                  18   \n",
       "2   2012        15                  15   \n",
       "3   2013        15                  23   \n",
       "4   2014        13                  17   \n",
       "5   2015        15                  33   \n",
       "6   2016        15                  40   \n",
       "7   2017        13                  38   \n",
       "8   2018        15                  30   \n",
       "9   2019        13                  30   \n",
       "10  2020        14                  40   \n",
       "11  2021        14                  57   \n",
       "12  2022        14                  53   \n",
       "13  2023        14                  11   \n",
       "\n",
       "                                             Keywords  \n",
       "0   speech recognition, speaker recognition, LDA, ...  \n",
       "1   structure from motion, 3D reconstruction, SLAM...  \n",
       "2   speech recognition, speaker recognition, LDA, ...  \n",
       "3   speech recognition, speaker recognition, LDA, ...  \n",
       "4   structure from motion, 3D reconstruction, SLAM...  \n",
       "5   speech recognition, speaker recognition, LDA, ...  \n",
       "6   speech recognition, speaker recognition, LDA, ...  \n",
       "7   structure from motion, 3D reconstruction, SLAM...  \n",
       "8   speech recognition, speaker recognition, LDA, ...  \n",
       "9   structure from motion, 3D reconstruction, SLAM...  \n",
       "10  Computational modeling, Computer vision, 5G mo...  \n",
       "11  Computational modeling, Computer vision, 5G mo...  \n",
       "12  Computational modeling, Computer vision, 5G mo...  \n",
       "13  Computational modeling, Computer vision, 5G mo...  "
      ]
     },
     "execution_count": 9,
     "metadata": {},
     "output_type": "execute_result"
    }
   ],
   "source": [
    "second_trending_topics"
   ]
  },
  {
   "cell_type": "markdown",
   "id": "e579223c",
   "metadata": {
    "id": "e579223c"
   },
   "source": [
    "Load data for building Journal Trend dashboard."
   ]
  },
  {
   "cell_type": "code",
   "execution_count": 10,
   "id": "bdafe601",
   "metadata": {
    "executionInfo": {
     "elapsed": 906,
     "status": "ok",
     "timestamp": 1676251292285,
     "user": {
      "displayName": "Shridhar Kshirsagar",
      "userId": "07304630140660921448"
     },
     "user_tz": 360
    },
    "id": "bdafe601"
   },
   "outputs": [],
   "source": [
    "# import module for building biased clusters\n",
    "from Biased_Clusters import get_clusters_dist, get_clusters_timeline, get_top_keywords, cal_cluster_bias"
   ]
  },
  {
   "cell_type": "code",
   "execution_count": 11,
   "id": "3f15cbf4",
   "metadata": {
    "executionInfo": {
     "elapsed": 1007,
     "status": "ok",
     "timestamp": 1676251293288,
     "user": {
      "displayName": "Shridhar Kshirsagar",
      "userId": "07304630140660921448"
     },
     "user_tz": 360
    },
    "id": "3f15cbf4"
   },
   "outputs": [],
   "source": [
    "import json\n",
    "import scipy.sparse\n",
    "\n",
    "# set global variables\n",
    "num_clusters = 9\n",
    "bias_amount = 4.61\n",
    "\n",
    "# load training data\n",
    "x_vector = np.load('../extracted_files/x_vector.npy')\n",
    "\n",
    "# load terms matrix\n",
    "terms_sparse_matrix = scipy.sparse.load_npz('../extracted_files/terms_sparse_matrix.npz')\n",
    "\n",
    "# convert sparse matrix to a dense numpy array\n",
    "# build a dataframe of the result\n",
    "terms_matrix_df = pd.DataFrame(terms_sparse_matrix.todense())\n",
    "\n",
    "# load terms label\n",
    "with open(\"../extracted_files/terms_label.txt\", \"r\") as fp:\n",
    "    terms_label = json.load(fp)"
   ]
  },
  {
   "cell_type": "markdown",
   "id": "31287714",
   "metadata": {
    "id": "31287714"
   },
   "source": [
    "## Dashboard"
   ]
  },
  {
   "cell_type": "markdown",
   "id": "69fe6036",
   "metadata": {
    "id": "69fe6036"
   },
   "source": [
    "### App Layout"
   ]
  },
  {
   "cell_type": "code",
   "execution_count": 12,
   "id": "jOdTWGME4Jt9",
   "metadata": {
    "colab": {
     "base_uri": "https://localhost:8080/"
    },
    "executionInfo": {
     "elapsed": 10751,
     "status": "ok",
     "timestamp": 1676251304035,
     "user": {
      "displayName": "Shridhar Kshirsagar",
      "userId": "07304630140660921448"
     },
     "user_tz": 360
    },
    "id": "jOdTWGME4Jt9",
    "outputId": "2e5ee6fe-971a-4b3d-b550-40e45a7a551c"
   },
   "outputs": [
    {
     "name": "stdout",
     "output_type": "stream",
     "text": [
      "Requirement already satisfied: jupyter-dash in /Users/shreetiupreti/opt/anaconda3/lib/python3.9/site-packages (0.4.2)\n",
      "Requirement already satisfied: ipython in /Users/shreetiupreti/opt/anaconda3/lib/python3.9/site-packages (from jupyter-dash) (7.31.1)\n",
      "Requirement already satisfied: requests in /Users/shreetiupreti/opt/anaconda3/lib/python3.9/site-packages (from jupyter-dash) (2.28.1)\n",
      "Requirement already satisfied: dash in /Users/shreetiupreti/opt/anaconda3/lib/python3.9/site-packages (from jupyter-dash) (2.8.1)\n",
      "Requirement already satisfied: flask in /Users/shreetiupreti/opt/anaconda3/lib/python3.9/site-packages (from jupyter-dash) (1.1.2)\n",
      "Requirement already satisfied: ipykernel in /Users/shreetiupreti/opt/anaconda3/lib/python3.9/site-packages (from jupyter-dash) (6.19.2)\n",
      "Requirement already satisfied: nest-asyncio in /Users/shreetiupreti/opt/anaconda3/lib/python3.9/site-packages (from jupyter-dash) (1.5.6)\n",
      "Requirement already satisfied: ansi2html in /Users/shreetiupreti/opt/anaconda3/lib/python3.9/site-packages (from jupyter-dash) (1.8.0)\n",
      "Requirement already satisfied: retrying in /Users/shreetiupreti/opt/anaconda3/lib/python3.9/site-packages (from jupyter-dash) (1.3.4)\n",
      "Requirement already satisfied: dash-html-components==2.0.0 in /Users/shreetiupreti/opt/anaconda3/lib/python3.9/site-packages (from dash->jupyter-dash) (2.0.0)\n",
      "Requirement already satisfied: dash-core-components==2.0.0 in /Users/shreetiupreti/opt/anaconda3/lib/python3.9/site-packages (from dash->jupyter-dash) (2.0.0)\n",
      "Requirement already satisfied: dash-table==5.0.0 in /Users/shreetiupreti/opt/anaconda3/lib/python3.9/site-packages (from dash->jupyter-dash) (5.0.0)\n",
      "Requirement already satisfied: plotly>=5.0.0 in /Users/shreetiupreti/opt/anaconda3/lib/python3.9/site-packages (from dash->jupyter-dash) (5.9.0)\n",
      "Requirement already satisfied: itsdangerous>=0.24 in /Users/shreetiupreti/opt/anaconda3/lib/python3.9/site-packages (from flask->jupyter-dash) (2.0.1)\n",
      "Requirement already satisfied: click>=5.1 in /Users/shreetiupreti/opt/anaconda3/lib/python3.9/site-packages (from flask->jupyter-dash) (8.0.4)\n",
      "Requirement already satisfied: Jinja2>=2.10.1 in /Users/shreetiupreti/opt/anaconda3/lib/python3.9/site-packages (from flask->jupyter-dash) (2.11.3)\n",
      "Requirement already satisfied: Werkzeug>=0.15 in /Users/shreetiupreti/opt/anaconda3/lib/python3.9/site-packages (from flask->jupyter-dash) (2.0.3)\n",
      "Requirement already satisfied: comm>=0.1.1 in /Users/shreetiupreti/opt/anaconda3/lib/python3.9/site-packages (from ipykernel->jupyter-dash) (0.1.2)\n",
      "Requirement already satisfied: appnope in /Users/shreetiupreti/opt/anaconda3/lib/python3.9/site-packages (from ipykernel->jupyter-dash) (0.1.2)\n",
      "Requirement already satisfied: psutil in /Users/shreetiupreti/opt/anaconda3/lib/python3.9/site-packages (from ipykernel->jupyter-dash) (5.9.0)\n",
      "Requirement already satisfied: debugpy>=1.0 in /Users/shreetiupreti/opt/anaconda3/lib/python3.9/site-packages (from ipykernel->jupyter-dash) (1.5.1)\n",
      "Requirement already satisfied: pyzmq>=17 in /Users/shreetiupreti/opt/anaconda3/lib/python3.9/site-packages (from ipykernel->jupyter-dash) (23.2.0)\n",
      "Requirement already satisfied: traitlets>=5.4.0 in /Users/shreetiupreti/opt/anaconda3/lib/python3.9/site-packages (from ipykernel->jupyter-dash) (5.7.1)\n",
      "Requirement already satisfied: packaging in /Users/shreetiupreti/opt/anaconda3/lib/python3.9/site-packages (from ipykernel->jupyter-dash) (22.0)\n",
      "Requirement already satisfied: jupyter-client>=6.1.12 in /Users/shreetiupreti/opt/anaconda3/lib/python3.9/site-packages (from ipykernel->jupyter-dash) (7.4.8)\n",
      "Requirement already satisfied: matplotlib-inline>=0.1 in /Users/shreetiupreti/opt/anaconda3/lib/python3.9/site-packages (from ipykernel->jupyter-dash) (0.1.6)\n",
      "Requirement already satisfied: tornado>=6.1 in /Users/shreetiupreti/opt/anaconda3/lib/python3.9/site-packages (from ipykernel->jupyter-dash) (6.2)\n",
      "Requirement already satisfied: prompt-toolkit!=3.0.0,!=3.0.1,<3.1.0,>=2.0.0 in /Users/shreetiupreti/opt/anaconda3/lib/python3.9/site-packages (from ipython->jupyter-dash) (3.0.36)\n",
      "Requirement already satisfied: backcall in /Users/shreetiupreti/opt/anaconda3/lib/python3.9/site-packages (from ipython->jupyter-dash) (0.2.0)\n",
      "Requirement already satisfied: pexpect>4.3 in /Users/shreetiupreti/opt/anaconda3/lib/python3.9/site-packages (from ipython->jupyter-dash) (4.8.0)\n",
      "Requirement already satisfied: setuptools>=18.5 in /Users/shreetiupreti/opt/anaconda3/lib/python3.9/site-packages (from ipython->jupyter-dash) (65.6.3)\n",
      "Requirement already satisfied: decorator in /Users/shreetiupreti/opt/anaconda3/lib/python3.9/site-packages (from ipython->jupyter-dash) (5.1.1)\n",
      "Requirement already satisfied: pickleshare in /Users/shreetiupreti/opt/anaconda3/lib/python3.9/site-packages (from ipython->jupyter-dash) (0.7.5)\n",
      "Requirement already satisfied: pygments in /Users/shreetiupreti/opt/anaconda3/lib/python3.9/site-packages (from ipython->jupyter-dash) (2.11.2)\n",
      "Requirement already satisfied: jedi>=0.16 in /Users/shreetiupreti/opt/anaconda3/lib/python3.9/site-packages (from ipython->jupyter-dash) (0.18.1)\n",
      "Requirement already satisfied: certifi>=2017.4.17 in /Users/shreetiupreti/opt/anaconda3/lib/python3.9/site-packages (from requests->jupyter-dash) (2022.12.7)\n",
      "Requirement already satisfied: charset-normalizer<3,>=2 in /Users/shreetiupreti/opt/anaconda3/lib/python3.9/site-packages (from requests->jupyter-dash) (2.0.4)\n",
      "Requirement already satisfied: idna<4,>=2.5 in /Users/shreetiupreti/opt/anaconda3/lib/python3.9/site-packages (from requests->jupyter-dash) (3.4)\n",
      "Requirement already satisfied: urllib3<1.27,>=1.21.1 in /Users/shreetiupreti/opt/anaconda3/lib/python3.9/site-packages (from requests->jupyter-dash) (1.26.14)\n",
      "Requirement already satisfied: six>=1.7.0 in /Users/shreetiupreti/opt/anaconda3/lib/python3.9/site-packages (from retrying->jupyter-dash) (1.16.0)\n",
      "Requirement already satisfied: parso<0.9.0,>=0.8.0 in /Users/shreetiupreti/opt/anaconda3/lib/python3.9/site-packages (from jedi>=0.16->ipython->jupyter-dash) (0.8.3)\n",
      "Requirement already satisfied: MarkupSafe>=0.23 in /Users/shreetiupreti/opt/anaconda3/lib/python3.9/site-packages (from Jinja2>=2.10.1->flask->jupyter-dash) (2.0.1)\n",
      "Requirement already satisfied: entrypoints in /Users/shreetiupreti/opt/anaconda3/lib/python3.9/site-packages (from jupyter-client>=6.1.12->ipykernel->jupyter-dash) (0.4)\n",
      "Requirement already satisfied: jupyter-core>=4.9.2 in /Users/shreetiupreti/opt/anaconda3/lib/python3.9/site-packages (from jupyter-client>=6.1.12->ipykernel->jupyter-dash) (5.1.1)\n",
      "Requirement already satisfied: python-dateutil>=2.8.2 in /Users/shreetiupreti/opt/anaconda3/lib/python3.9/site-packages (from jupyter-client>=6.1.12->ipykernel->jupyter-dash) (2.8.2)\n",
      "Requirement already satisfied: ptyprocess>=0.5 in /Users/shreetiupreti/opt/anaconda3/lib/python3.9/site-packages (from pexpect>4.3->ipython->jupyter-dash) (0.7.0)\n",
      "Requirement already satisfied: tenacity>=6.2.0 in /Users/shreetiupreti/opt/anaconda3/lib/python3.9/site-packages (from plotly>=5.0.0->dash->jupyter-dash) (8.0.1)\n",
      "Requirement already satisfied: wcwidth in /Users/shreetiupreti/opt/anaconda3/lib/python3.9/site-packages (from prompt-toolkit!=3.0.0,!=3.0.1,<3.1.0,>=2.0.0->ipython->jupyter-dash) (0.2.5)\n",
      "Requirement already satisfied: platformdirs>=2.5 in /Users/shreetiupreti/opt/anaconda3/lib/python3.9/site-packages (from jupyter-core>=4.9.2->jupyter-client>=6.1.12->ipykernel->jupyter-dash) (2.5.2)\n",
      "Note: you may need to restart the kernel to use updated packages.\n"
     ]
    }
   ],
   "source": [
    "pip install jupyter-dash"
   ]
  },
  {
   "cell_type": "code",
   "execution_count": 13,
   "id": "ZbG1vDlK4uB4",
   "metadata": {
    "colab": {
     "base_uri": "https://localhost:8080/"
    },
    "executionInfo": {
     "elapsed": 9337,
     "status": "ok",
     "timestamp": 1676251313330,
     "user": {
      "displayName": "Shridhar Kshirsagar",
      "userId": "07304630140660921448"
     },
     "user_tz": 360
    },
    "id": "ZbG1vDlK4uB4",
    "outputId": "86eb391a-a662-46d8-b9dd-b0d308cdc462"
   },
   "outputs": [
    {
     "name": "stdout",
     "output_type": "stream",
     "text": [
      "Requirement already satisfied: dash-daq in /Users/shreetiupreti/opt/anaconda3/lib/python3.9/site-packages (0.5.0)\n",
      "Requirement already satisfied: dash>=1.6.1 in /Users/shreetiupreti/opt/anaconda3/lib/python3.9/site-packages (from dash-daq) (2.8.1)\n",
      "Requirement already satisfied: dash-table==5.0.0 in /Users/shreetiupreti/opt/anaconda3/lib/python3.9/site-packages (from dash>=1.6.1->dash-daq) (5.0.0)\n",
      "Requirement already satisfied: plotly>=5.0.0 in /Users/shreetiupreti/opt/anaconda3/lib/python3.9/site-packages (from dash>=1.6.1->dash-daq) (5.9.0)\n",
      "Requirement already satisfied: dash-core-components==2.0.0 in /Users/shreetiupreti/opt/anaconda3/lib/python3.9/site-packages (from dash>=1.6.1->dash-daq) (2.0.0)\n",
      "Requirement already satisfied: dash-html-components==2.0.0 in /Users/shreetiupreti/opt/anaconda3/lib/python3.9/site-packages (from dash>=1.6.1->dash-daq) (2.0.0)\n",
      "Requirement already satisfied: Flask>=1.0.4 in /Users/shreetiupreti/opt/anaconda3/lib/python3.9/site-packages (from dash>=1.6.1->dash-daq) (1.1.2)\n",
      "Requirement already satisfied: itsdangerous>=0.24 in /Users/shreetiupreti/opt/anaconda3/lib/python3.9/site-packages (from Flask>=1.0.4->dash>=1.6.1->dash-daq) (2.0.1)\n",
      "Requirement already satisfied: click>=5.1 in /Users/shreetiupreti/opt/anaconda3/lib/python3.9/site-packages (from Flask>=1.0.4->dash>=1.6.1->dash-daq) (8.0.4)\n",
      "Requirement already satisfied: Werkzeug>=0.15 in /Users/shreetiupreti/opt/anaconda3/lib/python3.9/site-packages (from Flask>=1.0.4->dash>=1.6.1->dash-daq) (2.0.3)\n",
      "Requirement already satisfied: Jinja2>=2.10.1 in /Users/shreetiupreti/opt/anaconda3/lib/python3.9/site-packages (from Flask>=1.0.4->dash>=1.6.1->dash-daq) (2.11.3)\n",
      "Requirement already satisfied: tenacity>=6.2.0 in /Users/shreetiupreti/opt/anaconda3/lib/python3.9/site-packages (from plotly>=5.0.0->dash>=1.6.1->dash-daq) (8.0.1)\n",
      "Requirement already satisfied: MarkupSafe>=0.23 in /Users/shreetiupreti/opt/anaconda3/lib/python3.9/site-packages (from Jinja2>=2.10.1->Flask>=1.0.4->dash>=1.6.1->dash-daq) (2.0.1)\n",
      "Note: you may need to restart the kernel to use updated packages.\n"
     ]
    }
   ],
   "source": [
    "pip install dash-daq"
   ]
  },
  {
   "cell_type": "code",
   "execution_count": 14,
   "id": "UAFKA95W6mQ6",
   "metadata": {
    "colab": {
     "base_uri": "https://localhost:8080/"
    },
    "executionInfo": {
     "elapsed": 6829,
     "status": "ok",
     "timestamp": 1676251320127,
     "user": {
      "displayName": "Shridhar Kshirsagar",
      "userId": "07304630140660921448"
     },
     "user_tz": 360
    },
    "id": "UAFKA95W6mQ6",
    "outputId": "0a1b99ba-0a6a-4c8c-8bcd-041621340a84"
   },
   "outputs": [
    {
     "name": "stdout",
     "output_type": "stream",
     "text": [
      "Requirement already satisfied: dash-bootstrap-components in /Users/shreetiupreti/opt/anaconda3/lib/python3.9/site-packages (1.4.0)\n",
      "Requirement already satisfied: dash>=2.0.0 in /Users/shreetiupreti/opt/anaconda3/lib/python3.9/site-packages (from dash-bootstrap-components) (2.8.1)\n",
      "Requirement already satisfied: dash-core-components==2.0.0 in /Users/shreetiupreti/opt/anaconda3/lib/python3.9/site-packages (from dash>=2.0.0->dash-bootstrap-components) (2.0.0)\n",
      "Requirement already satisfied: plotly>=5.0.0 in /Users/shreetiupreti/opt/anaconda3/lib/python3.9/site-packages (from dash>=2.0.0->dash-bootstrap-components) (5.9.0)\n",
      "Requirement already satisfied: dash-table==5.0.0 in /Users/shreetiupreti/opt/anaconda3/lib/python3.9/site-packages (from dash>=2.0.0->dash-bootstrap-components) (5.0.0)\n",
      "Requirement already satisfied: dash-html-components==2.0.0 in /Users/shreetiupreti/opt/anaconda3/lib/python3.9/site-packages (from dash>=2.0.0->dash-bootstrap-components) (2.0.0)\n",
      "Requirement already satisfied: Flask>=1.0.4 in /Users/shreetiupreti/opt/anaconda3/lib/python3.9/site-packages (from dash>=2.0.0->dash-bootstrap-components) (1.1.2)\n",
      "Requirement already satisfied: Jinja2>=2.10.1 in /Users/shreetiupreti/opt/anaconda3/lib/python3.9/site-packages (from Flask>=1.0.4->dash>=2.0.0->dash-bootstrap-components) (2.11.3)\n",
      "Requirement already satisfied: Werkzeug>=0.15 in /Users/shreetiupreti/opt/anaconda3/lib/python3.9/site-packages (from Flask>=1.0.4->dash>=2.0.0->dash-bootstrap-components) (2.0.3)\n",
      "Requirement already satisfied: itsdangerous>=0.24 in /Users/shreetiupreti/opt/anaconda3/lib/python3.9/site-packages (from Flask>=1.0.4->dash>=2.0.0->dash-bootstrap-components) (2.0.1)\n",
      "Requirement already satisfied: click>=5.1 in /Users/shreetiupreti/opt/anaconda3/lib/python3.9/site-packages (from Flask>=1.0.4->dash>=2.0.0->dash-bootstrap-components) (8.0.4)\n",
      "Requirement already satisfied: tenacity>=6.2.0 in /Users/shreetiupreti/opt/anaconda3/lib/python3.9/site-packages (from plotly>=5.0.0->dash>=2.0.0->dash-bootstrap-components) (8.0.1)\n",
      "Requirement already satisfied: MarkupSafe>=0.23 in /Users/shreetiupreti/opt/anaconda3/lib/python3.9/site-packages (from Jinja2>=2.10.1->Flask>=1.0.4->dash>=2.0.0->dash-bootstrap-components) (2.0.1)\n",
      "Note: you may need to restart the kernel to use updated packages.\n"
     ]
    }
   ],
   "source": [
    "pip install dash-bootstrap-components"
   ]
  },
  {
   "cell_type": "code",
   "execution_count": 15,
   "id": "a27443d6",
   "metadata": {
    "executionInfo": {
     "elapsed": 1678,
     "status": "ok",
     "timestamp": 1676251321783,
     "user": {
      "displayName": "Shridhar Kshirsagar",
      "userId": "07304630140660921448"
     },
     "user_tz": 360
    },
    "id": "a27443d6"
   },
   "outputs": [],
   "source": [
    "from jupyter_dash import JupyterDash\n",
    "import dash\n",
    "import dash_daq as daq\n",
    "import dash_table\n",
    "import dash_bootstrap_components as dbc\n",
    "import dash_core_components as dcc\n",
    "import dash_html_components as html\n",
    "from dash.dependencies import Input, Output, State\n",
    "from dash import callback_context\n",
    "import plotly.express as px\n",
    "import plotly.graph_objects as go\n",
    "from plotly.figure_factory import create_gantt\n",
    "from plotly.subplots import make_subplots"
   ]
  },
  {
   "cell_type": "code",
   "execution_count": 16,
   "id": "9652de40",
   "metadata": {
    "executionInfo": {
     "elapsed": 22,
     "status": "ok",
     "timestamp": 1676251321785,
     "user": {
      "displayName": "Shridhar Kshirsagar",
      "userId": "07304630140660921448"
     },
     "user_tz": 360
    },
    "id": "9652de40"
   },
   "outputs": [],
   "source": [
    "# prepare data for building Year slider\n",
    "year_min = data['Year'].min()\n",
    "year_max = int(data['Year'].max())\n",
    "year_range = list(range(1980, year_max+1, 5))\n",
    "year_range.append(1974)\n",
    "year_range_str = [str(x) for x in year_range]\n",
    "\n",
    "# clusters color\n",
    "clusters_color = ['#da70d6','#45b1e8','#808000','#bcf60c','#0abab5','#000075',\n",
    "                  '#e6194b','#c4aead','#7b68ee','#3cb44b','#911eb4','#4363d8',\n",
    "                  '#f58231','#ffe119','#46f0f0', '#800000','#9a6324','#bcf60c']\n",
    "\n",
    "# set style for header Div\n",
    "divHeaderStyle = {'border': '1px solid white', \n",
    "                  'backgroundColor':'#00853E',\n",
    "                  'textAlign':'center',\n",
    "                  'color':'white'}\n",
    "\n",
    "divHeaderStyleKey = {\n",
    "                 'border': '1px solid white', \n",
    "                  'backgroundColor':'#00853E',\n",
    "                  'textAlign':'center',\n",
    "                  'color':'white',\n",
    "                  'width' : '50.5rem',\n",
    "}\n",
    "\n",
    "divHeaderStyle2 = {'border': '1px solid white', \n",
    "                  'backgroundColor':'#00853E',\n",
    "                  'width' : '41rem',\n",
    "                  'textAlign':'center',\n",
    "                  'color':'white'}\n",
    "\n",
    "divHeaderStyle3 = {'border': '1px solid white', \n",
    "                  'backgroundColor':'#00853E',\n",
    "                  'width' : '40.5rem',\n",
    "                  'margin-left': '1rem',\n",
    "                  'textAlign':'center',\n",
    "                  'color':'white'}\n",
    "\n",
    "divHeaderStyle4 = {'border': '1px solid white', \n",
    "                  'backgroundColor':'#00853E',\n",
    "                  'width' : '40.5rem',\n",
    "                  'margin-left': '2rem',\n",
    "                  'textAlign':'center',\n",
    "                  'color':'white'}\n",
    "\n",
    "divHeaderStyle5 = {'border': '1px solid white', \n",
    "                  'backgroundColor':'#00853E',\n",
    "                  'width' : '45.1rem',\n",
    "                  'margin-top': '0.4rem',\n",
    "                  'textAlign':'center',\n",
    "                  'color':'white'}\n",
    "    \n",
    "\n",
    "divHeaderStyleTopic = {'border': '1px solid white', \n",
    "                  'backgroundColor':'#00853E',\n",
    "                  'width' : '45.1rem',\n",
    "                  'textAlign':'center',\n",
    "                  'color':'white'\n",
    "}\n",
    "\n",
    "\n",
    "# set style for Span header and label\n",
    "spanHeaderStyle={'display':'inline-block', 'margin-left':'15px', 'margin-right':'15px', 'fontWeight':'bold'}\n",
    "spanLabelStyle={'color':'blue', 'display':'inline-block'}\n",
    "\n",
    "# terms table style\n",
    "terms_style_table={'height': '378px', 'width':'480px', 'overflowY': 'auto'}\n",
    "terms_style_cell={'whiteSpace': 'normal', 'textAlign': 'left', 'height':'auto',\n",
    "                  # all three widths are needed\n",
    "                  'minWidth': '40px', 'width': '300px', 'maxWidth': '400px',}\n",
    "terms_style_header={'backgroundColor':\"#B9DCD2\", 'border': '1px solid green', \n",
    "                    'textAlign': 'center', 'fontWeight': 'bold'}\n",
    "terms_style_data={'backgroundColor':\"lavender\", 'border': '1px solid white', 'height': 'auto'}\n",
    "\n",
    "# set height for figures\n",
    "figHeight = 420"
   ]
  },
  {
   "cell_type": "code",
   "execution_count": 17,
   "id": "bd7781e3",
   "metadata": {},
   "outputs": [],
   "source": [
    "import plotly.graph_objs as go\n",
    "\n",
    "def create_bar_chart(df):\n",
    "    fig = go.Figure()\n",
    "    for topic_id in df['Topic Id'].unique():\n",
    "        topic_df = df[df['Topic Id'] == topic_id]\n",
    "        fig.add_trace(go.Bar(\n",
    "            x=topic_df['Year'],\n",
    "            y=topic_df['Number of Articles'],\n",
    "            name=f'Topic {topic_id}',\n",
    "            hovertext=topic_df['Number of Articles'],\n",
    "            hovertemplate='Number of articles:%{hovertext}<extra></extra>',\n",
    "            marker_color=topic_id\n",
    "        ))\n",
    "    fig.update_layout(\n",
    "        title='Trending Topics by Year',\n",
    "        xaxis_title='Year',\n",
    "        yaxis_title='Number of Articles',\n",
    "        legend_title='Topic Id',\n",
    "        legend=dict(\n",
    "            orientation='h',\n",
    "            yanchor='top',\n",
    "            y=1.1,\n",
    "            xanchor='center',\n",
    "            x=0.5\n",
    "        ),\n",
    "        hovermode='closest',\n",
    "        hoverlabel=dict(\n",
    "            bgcolor='black',\n",
    "            font_size=10,\n",
    "            font_family='Arial',\n",
    "            namelength=-1\n",
    "        )\n",
    "    )\n",
    "    return fig"
   ]
  },
  {
   "cell_type": "code",
   "execution_count": 18,
   "id": "4fccc7ca",
   "metadata": {},
   "outputs": [],
   "source": [
    "# # @app.callback(\n",
    "# #     Output('trending_topics_chart', 'figure'),\n",
    "# #     Input('second_trending_topics_data', 'data')\n",
    "# # )\n",
    "# # def update_trending_topics_chart(data):\n",
    "# #     df = pd.read_json(data, orient='split')\n",
    "# #     fig = create_bar_chart(df)\n",
    "# #     return fig\n",
    "# @app.callback(\n",
    "#     Output('trending_topics_chart', 'figure'),\n",
    "#     Input('second_trending_topics', 'data')\n",
    "# )\n",
    "# def update_chart(data):\n",
    "#     df = pd.read_json(data, orient='split')\n",
    "#     fig = px.bar(df, x='Year', y='Number of Articles', color='Topic Id', hover_data=['Keywords'])\n",
    "#     return fig\n"
   ]
  },
  {
   "cell_type": "code",
   "execution_count": 19,
   "id": "1575ef84",
   "metadata": {
    "executionInfo": {
     "elapsed": 111,
     "status": "ok",
     "timestamp": 1676251373746,
     "user": {
      "displayName": "Shridhar Kshirsagar",
      "userId": "07304630140660921448"
     },
     "user_tz": 360
    },
    "id": "1575ef84"
   },
   "outputs": [],
   "source": [
    "def build_k_evaluation_plot():\n",
    "    df_k = pd.read_csv('../extracted_files/avg_sil_per_k.csv')\n",
    "    \n",
    "    # createa a line plot of Average Silhouette Score vs. Number of Clusters (k)\n",
    "    fig = px.line(df_k, x='Number of Topics', y='Average Silhouette Score', markers=True)\n",
    "\n",
    "    # get index of max average Silhouette score\n",
    "    top_k = df_k[df_k['Average Silhouette Score'] == df_k['Average Silhouette Score'].max()]\n",
    "\n",
    "    fig.add_annotation(x=top_k['Number of Topics'].values[0], y=top_k['Average Silhouette Score'].values[0],\n",
    "                       text=\"Best k = \" + str(top_k['Number of Topics'].values[0]),\n",
    "                       ay=-35, yanchor=\"bottom\", \n",
    "                       showarrow=True, arrowhead=1, arrowsize=1, arrowwidth=2)\n",
    "\n",
    "    # set plot's properties\n",
    "    fig.update_layout(#title_text='Number of Topics vs. Average Silhouette Score', # title of plot\n",
    "                      xaxis_title_text='<b>Number of Topics (k)</b>', # xaxis label\n",
    "                      yaxis_title_text='<b>Average Silhouette Score</b>',\n",
    "                      width=650, height=500)\n",
    "    return fig"
   ]
  },
  {
   "cell_type": "code",
   "execution_count": 20,
   "id": "e50485e9",
   "metadata": {
    "executionInfo": {
     "elapsed": 1400,
     "status": "ok",
     "timestamp": 1676251386597,
     "user": {
      "displayName": "Shridhar Kshirsagar",
      "userId": "07304630140660921448"
     },
     "user_tz": 360
    },
    "id": "e50485e9"
   },
   "outputs": [],
   "source": [
    "# instantiate the app\n",
    "app = JupyterDash(__name__, external_stylesheets=[dbc.themes.BOOTSTRAP])\n",
    "\n",
    "# create the layout of the app\n",
    "app.layout = html.Main([\n",
    "     html.Div(html.H1('Trend Detection: AI Journals', style={ 'fontSize': '40px', 'color':'white'}), style={'backgroundColor':'#00853E', 'height': '4.5rem', 'padding': '1rem'}),\n",
    "    dbc.Tabs([\n",
    "        dbc.Tab([            # start of Journal Trend tab\n",
    "            # Journal Trend: first row div\n",
    "           dbc.Row([\n",
    "                   html.Table([\n",
    "                       html.Tbody([\n",
    "                           html.Td(style={'width':'15px'}),\n",
    "                           html.Td(html.H6(\"Number of topics:\")),\n",
    "                           html.Td(style={'width':'15px'}), # empty space\n",
    "                           html.Td([\n",
    "                               # Slider for Number of Clusters\n",
    "                               daq.Slider(id='num_clusters_slider', min=5, max=15, value=9,\n",
    "                                          #handleLabel={\"showCurrentValue\": True,\"label\": \"VALUE\"},\n",
    "                                          marks=dict(zip([str(x) for x in range(5,16,1)],\n",
    "                                                         [str(x) for x in range(5,16,1)])), step=1)\n",
    "                           ]),\n",
    "                           html.Td(style={'width':'30px'}), # empty space\n",
    "                           html.Td(html.H6('Bias Amount: ')),\n",
    "                           html.Td(style={'width':'15px'}), # empty space\n",
    "                           html.Td([\n",
    "                               # input text box for bias amount\n",
    "                               dcc.Input(id='bias_input', type='number', value=bias_amount, min=0, \n",
    "                                         style={'width':'65px'}),\n",
    "                           ]),\n",
    "                           html.Td(style={'width':'10px'}), # empty space\n",
    "                           html.Td([\n",
    "                               html.Button('Generate Topics', id='btn_submit', n_clicks=0)\n",
    "                           ]), # end html.Td\n",
    "                           html.Td(style={'width':'20px'}), # empty space\n",
    "                           html.Td([\n",
    "                               dcc.Loading(\n",
    "                                    id=\"loading-1\",\n",
    "                                    type=\"default\",\n",
    "                                    children=html.Div(id=\"loading-output-1\", \n",
    "                                                      style={'color': '#0000cd',\n",
    "                                                              'padding': '0.5rem',\n",
    "                                                             'textAlign': 'center'})\n",
    "                                ),\n",
    "                           ]),\n",
    "                           html.Td(style={'width':'30px'}), # empty space\n",
    "                           html.Td(html.H6(\"Filter by Topics:\")),\n",
    "                           html.Td(style={'width':'10px'}), # empty space\n",
    "                           html.Td(dcc.Checklist(id='clusters_checkbox',\n",
    "                                                 labelStyle={'display': 'inline-block', 'width': '50px'},\n",
    "                                                 style={'width':'430px'})),\n",
    "                           #html.Td(style={'width':'5px'}), # empty space\n",
    "                           html.Td([html.Button('Clear Filters', id='btn_clear_filters', n_clicks=0)]), # end html.Td\n",
    "                           html.Td(style={'width':'20px'}), # empty space\n",
    "                       ]), # end Tbody\n",
    "                   ]), # end Table\n",
    "               ], style={'height':'90px','border': '2px solid black', 'backgroundColor':'#B9DCD2'}), # end first Row\n",
    "            # start second row\n",
    "            dbc.Row([\n",
    "                # 3 sub-tabs under Journal Trend\n",
    "                dbc.Tabs([\n",
    "                    dbc.Tab([\n",
    "                        html.Table([\n",
    "                            html.Tr([\n",
    "                                html.Td([\n",
    "                                    html.Div([], style={'height':'10px'})\n",
    "                                ], colSpan=4)\n",
    "                            ]),\n",
    "                            html.Tr([\n",
    "                                html.Td([html.Div([], style={'width':'14px'})]), # empty space\n",
    "                                html.Td([\n",
    "                                    html.Div([html.H5(\"Trending Topics : Article Distribution per Year\")], \n",
    "                                             style=divHeaderStyleTopic), # end Div\n",
    "                                    html.Div([dcc.Graph(id='trending_topics_chart', figure=create_bar_chart(second_trending_topics))],style={'width': '44.5rem'}) # end Div\n",
    "                                ],style={'width': '45.5rem'}), # end html.Td\n",
    "                                html.Td([html.Div([], style={'width':'5px'})]), # empty space\n",
    "                                html.Td([\n",
    "                                    html.Div([html.H5(\"Table for trending topics\")], style=divHeaderStyle2), # end Div\n",
    "                                    html.Div([\n",
    "                                        dash_table.DataTable(\n",
    "                                            id='trending_topics_data_table',\n",
    "                                            sort_action=\"native\",\n",
    "                                            filter_action='native',\n",
    "                                            fixed_rows={'headers': True},\n",
    "                                            style_table={'height': '420px', 'width': '41rem', 'overflowY': 'auto'},\n",
    "                                            style_cell={'whiteSpace': 'normal', 'textAlign': 'center', 'height':'auto',\n",
    "                                                        'verticalAlign':'top',\n",
    "                                                        # all three widths are needed\n",
    "                                                        'minWidth': '40px', 'width': '41rem', 'maxWidth': '41rem'},\n",
    "                                            style_header=terms_style_header,\n",
    "                                            style_data=terms_style_data,\n",
    "                                            style_cell_conditional=[{'if': {'column_id': ['Topic Id','Year','Number of Articles']}, 'width': '10%'}],\n",
    "                                            style_as_list_view=True),    # end DataTable\n",
    "                                    ], style={'backgroundColor':'#fff', 'width': '41rem'}), # end html.Div\n",
    "                                ]), # end Td\n",
    "                            ]), # end html.Tr\n",
    "                        \n",
    "                            html.Tr([\n",
    "                                html.Td([\n",
    "                                    html.Div([], style={'height':'16px'})\n",
    "                                ], colSpan=4)\n",
    "                            ]), # end html.Tr\n",
    "                            html.Tr([\n",
    "                                html.Td([html.Div([], style={'width':'14px'})]), # empty space\n",
    "                                html.Td([\n",
    "                                    html.Div([html.H5(\"Overall Topics Trends: Article Distribution per Year\")], \n",
    "                                             style=divHeaderStyleTopic), # end Div\n",
    "                                    html.Div([dcc.Graph(id='clusters_dist_line_simple_ui')],style={'width': '45.5rem'}) # end Div\n",
    "                                ],style={'width': '45.5rem'}), # end html.Td\n",
    "                                html.Td([html.Div([], style={'width':'5px'})]), # empty space\n",
    "                                html.Td([\n",
    "                                    html.Div([html.H5(\"Abstract\")], style=divHeaderStyle2), # end Div\n",
    "                                    html.Div([\n",
    "                                        dash_table.DataTable(\n",
    "                                            id='abstract_table',\n",
    "                                            sort_action=\"native\",\n",
    "                                            filter_action='native',\n",
    "                                            fixed_rows={'headers': True},\n",
    "                                            style_table={'height': '420px', 'width': '41rem', 'overflowY': 'auto'},\n",
    "                                            style_cell={'whiteSpace': 'normal', 'textAlign': 'left', 'height':'auto',\n",
    "                                                        'verticalAlign':'top',\n",
    "                                                        # all three widths are needed\n",
    "                                                        'minWidth': '40px', 'width': '41rem', 'maxWidth': '41rem'},\n",
    "                                            style_header=terms_style_header,\n",
    "                                            style_data=terms_style_data,\n",
    "                                            style_cell_conditional=[{'if': {'column_id': 'Topic Id'}, 'width': '10%'}],\n",
    "                                            style_as_list_view=True),    # end DataTable\n",
    "                                    ], style={'backgroundColor':'#fff', 'width': '41rem'}), # end html.Div\n",
    "                                ]), # end Td\n",
    "                            ]), # end html.Tr\n",
    "                        \n",
    "                            html.Tr([\n",
    "                                html.Td([\n",
    "                                    html.Div([], style={'height':'16px'})\n",
    "                                ], colSpan=4)\n",
    "                            ]), # end html.Tr\n",
    "                            html.Tr([\n",
    "                                html.Td([\n",
    "                                    html.Table([\n",
    "                                        html.Tr([\n",
    "                                            html.Td([html.Div([], style={'width':'13px'})]), # end html.Td\n",
    "                                            html.Td([\n",
    "                                                html.Div([html.H5(\"Summary of Trending Topics\")], style=divHeaderStyle), # end Div\n",
    "                                                html.Div([\n",
    "                                                    dash_table.DataTable(\n",
    "                                                        id='topic_clusters_table',\n",
    "                                                        sort_action=\"native\",\n",
    "                                                        filter_action='native',\n",
    "                                                        fixed_rows={'headers': True},\n",
    "                                                        style_table={'height': '350px', 'width':'87rem'},\n",
    "                                                        style_cell={'whiteSpace': 'normal', 'textAlign': 'center', \n",
    "                                                                    'height':'auto',\n",
    "                                                                    'verticalAlign':'top',\n",
    "                                                                    # all three widths are needed\n",
    "                                                                    'minWidth': '20px', 'width': '40rem', \n",
    "                                                                    'maxWidth': '87rem',},\n",
    "                                                        style_header=terms_style_header,\n",
    "                                                        style_data=terms_style_data,\n",
    "                                                        style_cell_conditional=[\n",
    "                                                            {'if': {'column_id': 'Terms'}, 'width': '380px','textAlign': 'left'},\n",
    "                                                            {'if': {'column_id': 'Timeline'}, 'width': '55px'},\n",
    "                                                            {'if': {'column_id': 'Topic Id'}, 'width': '32px'},\n",
    "                                                            {'if': {'column_id':'Number of Articles'},'width': '50px'},\n",
    "                                                            {'if': {'column_id': 'Article %'}, 'width': '30px'},\n",
    "                                                            {'if': {'column_id': 'Trend Score'}, 'width': '25px'},\n",
    "                                                            {'if': {'column_id': 'Silhouette Score'}, 'width': '30px'},\n",
    "                                                            {'if': {'column_id': 'Bias Avg Std Year'},'width': '30px'},\n",
    "                                                        ],\n",
    "                                                        style_as_list_view=True\n",
    "                                                    ),    # end DataTable\n",
    "                                                ], style={'backgroundColor':'#fff'}), # end Div\n",
    "                                            ]), # end html.Td\n",
    "                                        ]), # end html.Tr\n",
    "                                    ]), # end html.Table\n",
    "                                ], colSpan=4), # end html.Td\n",
    "                            ]), # end html.Tr\n",
    "                        ]), # end html.Table\n",
    "                    ], label='Simple UI', style={'backgroundColor':'#dcdcdc'}), # end Simple UI Tab\n",
    "                    dbc.Tab([\n",
    "                        html.Table([\n",
    "                            html.Tr([\n",
    "                                html.Td([html.Div([], style={'width':'1.5rem'})]),\n",
    "                                html.Td([\n",
    "                                    html.Div([\n",
    "                                        html.H5(\"Overall Topics Trends: Article Distribution per Year\")\n",
    "                                    ], style=divHeaderStyle5), # end Div\n",
    "                                    html.Div([dcc.Graph(id='clusters_dist_line')],style={'width': '45.5rem'}) # end Div\n",
    "                                ]), # end html.Td\n",
    "                                html.Td([html.Div([], style={'width':'5px'})]),\n",
    "                                html.Td([\n",
    "                                    html.Div([\n",
    "                                       html.H5(\"Evaluation Metrics\")\n",
    "                                    ], style=divHeaderStyle), # end Div\n",
    "                                    html.Div([\n",
    "                                       dbc.Tabs([\n",
    "                                           dbc.Tab([\n",
    "                                               dcc.Graph(id='trend_score')\n",
    "                                           ], label='Trend Score'), # end Tab\n",
    "                                           dbc.Tab([\n",
    "                                               dcc.Graph(id='sil_score_fig')\n",
    "                                           ], label='Silhouette Score'), # end Tab\n",
    "                                           dbc.Tab([\n",
    "                                               dcc.Graph(id='std_years_fig')\n",
    "                                           ], label='Avg Std of Years'), # end Tab\n",
    "                                           dbc.Tab([\n",
    "                                               dcc.Graph(id='articles_pct')\n",
    "                                           ], label='Articles %'), # end second Tab\n",
    "                                       ]), # end dbc.Tabs\n",
    "                                   ], style={'height': '418px','backgroundColor':'#f4f0ec'}), # end Div\n",
    "                                 ]), # end html.Td\n",
    "                            ]), # end html.Tr\n",
    "                             html.Tr([\n",
    "                                html.Td([\n",
    "                                    html.Div([], style={'height':'20px'})\n",
    "                                ], colSpan=4)\n",
    "                            ]),\n",
    "                            html.Tr([\n",
    "                                 html.Td([html.Div([], style={'width':'5px'})]),\n",
    "                                html.Td([\n",
    "                                    html.Div([html.H5(\"Summary\")], style=divHeaderStyle), # end Div\n",
    "                                    html.Div([\n",
    "                                       html.Div('Overview', style={'fontSize':'14pt', 'color':'blue'}), # end Div\n",
    "                                       html.Div([\n",
    "                                           html.Span('Number of Selected Topics:', style=spanHeaderStyle),\n",
    "                                           html.Span(id='num_topics', style=spanLabelStyle)\n",
    "                                       ]), # end Div\n",
    "                                        html.Div([\n",
    "                                           html.Span('Bias Amount:', style=spanHeaderStyle),\n",
    "                                           html.Span(id='bias_amount_span', style=spanLabelStyle)\n",
    "                                       ]), # end Div\n",
    "                                       html.Div([\n",
    "                                           html.Span('Number of Unique Terms:', style=spanHeaderStyle),\n",
    "                                           html.Span(id='num_unique_terms', style=spanLabelStyle)\n",
    "                                       ]), # end Div\n",
    "                                       html.P(''),\n",
    "                                       html.Div(id='top_topic_div'), # end Div\n",
    "                                    ], style={'height': '380px',\n",
    "                                             'width':'725px',\n",
    "                                             'padding' : '0 12.5rem',\n",
    "                                             'text-align':'center',\n",
    "                                             'backgroundColor':'#fff',\n",
    "                                             'overflow':'auto'}) # end Div\n",
    "                                ]), # end html.Td\n",
    "                                html.Td([html.Div([], style={'width':'15px'})]),\n",
    "                                html.Td([\n",
    "                                                html.Div([\n",
    "                                                   html.H5(\"Timelines\")\n",
    "                                                ], style=divHeaderStyle), # end Div\n",
    "                                                html.Div([dcc.Graph(id='clusters_timeline')]) # end Div\n",
    "                                            ]), # end html.Td\n",
    "                            ]),\n",
    "                             html.Tr([\n",
    "                                html.Td([\n",
    "                                    html.Div([], style={'height':'20px'})\n",
    "                                ], colSpan=4)\n",
    "                            ]),\n",
    "                            html.Tr([\n",
    "                                html.Td([html.Div([], style={'height':'10px'})], colSpan=5)\n",
    "                            ]), # end html.Tr\n",
    "                            html.Tr([\n",
    "                                 html.Td([html.Div([], style={'width':'5px'})]),\n",
    "                                html.Td([\n",
    "                                    html.Table([\n",
    "                                        html.Tr([\n",
    "                                            html.Td([html.Div([], style={'width':'11rem'})]),\n",
    "                                            html.Td([\n",
    "                                                html.Div([\n",
    "                                                   html.H5(\"Terms\")\n",
    "                                                ], style=divHeaderStyle), # end Div\n",
    "                                                html.Div([html.Img(id='cluster_terms_fig')], \n",
    "                                                        style={'backgroundColor':'#f4f0ec'}) # end Div\n",
    "                                            ]), # end html.Td\n",
    "                                            html.Td([html.Div([], style={'width':'15px'})]),\n",
    "                                            html.Td([\n",
    "                                                html.Div([html.H5(\"Unique Terms\")], \n",
    "                                                         style=divHeaderStyle), # end Div\n",
    "                                                html.Div([\n",
    "                                                   dash_table.DataTable(\n",
    "                                                       id='unique_terms_table',\n",
    "                                                       sort_action=\"native\",\n",
    "                                                       filter_action='native',\n",
    "                                                       fixed_rows={'headers': True},\n",
    "                                                       style_table=terms_style_table,\n",
    "                                                       style_cell=terms_style_cell,\n",
    "                                                       style_header=terms_style_header,\n",
    "                                                       style_data=terms_style_data,\n",
    "                                                       style_cell_conditional=\n",
    "                                                       [{'if': {'column_id': 'Topic Id'}, 'width': '50px'}],\n",
    "                                                       style_as_list_view=True\n",
    "                                                   ) # end DataTable\n",
    "                                                ], style={'backgroundColor':'#fff'}), # end html.Div\n",
    "                                            ]), # end html.Td\n",
    "                                        ]), # end html.Tr\n",
    "                                    ]) # end html.Table\n",
    "                                ], colSpan=5), # end html.Td\n",
    "                            ]), # end html.Tr\n",
    "                        ]), # end html.Table\n",
    "                    ], label='Advanced UI', style={'backgroundColor':'#dcdcdc'}), # end dbc.Tab for Advanced UI\n",
    "                    dbc.Tab([\n",
    "                        html.Table([\n",
    "                            html.Tr([\n",
    "                                html.Td([html.Div([], style={'height':'40px'})], colSpan=4) # end html.Td\n",
    "                            ]), # end html.Tr\n",
    "                            html.Tr([\n",
    "                                html.Td([html.Div([], style={'width':'40px'})]), # empty space\n",
    "                                html.Td([\n",
    "                                    html.Div([html.H5(\"Number of Topics (k)\")], style=divHeaderStyle), # end Div\n",
    "                                    html.Div([dcc.Graph(figure=build_k_evaluation_plot())])\n",
    "                                ]), # end html.Td\n",
    "                                html.Td([html.Div([], style={'width':'30px'})]), # empty space\n",
    "                                html.Td([\n",
    "                                    html.Div([\n",
    "                                        html.H5(id='bias_eval_header')\n",
    "                                    ], style=divHeaderStyle), # end Div\n",
    "                                    html.Div([dcc.Graph(id='bias_evaluation_fig')])\n",
    "                                ]), # end html.Td\n",
    "                            ]), # end html.Tr\n",
    "                            html.Tr([\n",
    "                                html.Td([html.Div([], style={'height':'40px'})], colSpan=4) # end html.Td\n",
    "                            ]), # end html.Tr\n",
    "                        ]), # end html.Table\n",
    "                    ], label='Diagnostics', style={'backgroundColor':'#dcdcdc'}), # end dbc.Tab for Diagnostics\n",
    "                ], style={'backgroundColor':'#d3d3d3'}), # end dbc.Tabs\n",
    "            ]), # end second row of Journal Trend\n",
    "       ], label='Journal Trends', style={'backgroundColor':'#dcdcdc'}), # end Advanced UI dbc.Tab\n",
    "       dbc.Tab([\n",
    "           dbc.Row([\n",
    "               dbc.Col([\n",
    "                   dbc.Row([\n",
    "                       dbc.Col([html.P('')], width={\"size\": 1}),\n",
    "                       dbc.Col([\n",
    "                           html.Span('Number of Articles', style={'fontWeight':'bold'}),\n",
    "                           html.Span(id='num_articles', style={'color':'#006747'})\n",
    "                       ]),\n",
    "                       dbc.Col([\n",
    "                           html.Span('Number of Unique Keywords', style={'fontWeight':'bold'}),\n",
    "                           html.Span(id='num_unique_keywords', style={'color':'#006747'})\n",
    "                       ], width={'size':5}),\n",
    "                       dbc.Col([\n",
    "                           html.Span('Year(s)', style={'fontWeight':'bold'}),\n",
    "                           html.Span(id='year_range', style={'color':'#006747'})\n",
    "                       ])\n",
    "                   ]),\n",
    "               ], width={\"size\": 5, \"offset\": 0}), # end first column\n",
    "               dbc.Col([\n",
    "                   html.H5(\"Filter by Year:\"),\n",
    "                   dcc.RangeSlider(\n",
    "                       id='year_slider',\n",
    "                       min=year_min, max=year_max, step=1,\n",
    "                       marks=dict(zip(year_range, year_range_str)),\n",
    "                       value=[year_min, year_max]\n",
    "                    ),\n",
    "               ], width={\"size\": 5}), # end second dbc.Col\n",
    "           ], style={'height':105, 'border':'1px solid black', 'backgroundColor':'#B9DCD2'}),  # end first dbc.Row\n",
    "           dbc.Row([\n",
    "               html.Table([\n",
    "                   html.Tr([\n",
    "                       html.Td([html.Div([], style={'width':'25px'})]), # end html.Td\n",
    "                       html.Td([\n",
    "                           html.Div([\n",
    "                               html.H5(\"Monthly Average Number of Articles\")\n",
    "                           ], style=divHeaderStyle2), # end Div\n",
    "                           html.Div([dcc.Graph(id='monthly_dist_plot')],style={'width':'41rem', 'border':'black'}), # end Div\n",
    "                      ], style={'margin-left':'10px','width':'41rem'}), # end html.Td\n",
    "                       html.Td([html.Div([], style={'width':'10px'})]), # end html.Td\n",
    "                       html.Td([\n",
    "                           html.Div([\n",
    "                               html.H5(\"Yearly Frequency Distribution\")\n",
    "                           ], style=divHeaderStyleTopic), # end Div\n",
    "                           html.Div([dcc.Graph(id='freq_dist_plot')], style={'backgroundColor':'#fff', 'border':'black','width': '45.1rem'})   \n",
    "                       ]), # end html.Td\n",
    "#                        html.Td([html.Div([], style={'width':'49px'})]), # end html.Td\n",
    "                   ]), # end html.Tr\n",
    "               ]), # end html.Table\n",
    "           ], style={'border':1, 'height':461, 'margin-top':'3px'}), # end second dbc.Row\n",
    "           html.Tr([\n",
    "                    html.Td([\n",
    "                        html.Div([], style={'height':'16px'})\n",
    "                         ], colSpan=4)\n",
    "                   ]), # end html.Tr\n",
    "           dbc.Row([\n",
    "               html.Td(style={'width':'48px'}),\n",
    "               dbc.Col([\n",
    "                   html.Div([\n",
    "                       html.H5(\"Keyword: Frequency & Timeline\")\n",
    "                   ], style=divHeaderStyleKey), # end Div\n",
    "                   html.Div([\n",
    "                   dash_table.DataTable(\n",
    "                       id='keyword_table',\n",
    "                       sort_action=\"native\",\n",
    "                       filter_action='native',\n",
    "                       fixed_rows={'headers': True},\n",
    "                       style_table={'height': '376px', 'overflow': 'auto'},\n",
    "                       style_cell={'height': 'auto', 'whiteSpace': 'normal', 'textAlign': 'left',\n",
    "                                    # all three widths are needed\n",
    "                                    'minWidth': '50px', 'width': '80px', 'maxWidth': '200px',},\n",
    "                       style_header={'backgroundColor':\"#B9DCD2\", 'border': '1px solid green', \n",
    "                                     'textAlign': 'center', 'fontWeight': 'bold',\n",
    "                                     'height': 'auto', 'whiteSpace':'normal'},\n",
    "                       style_data={'backgroundColor':\"lavender\",\n",
    "                                   'border': '1px solid white'},\n",
    "                       style_header_conditional=[{'if': {'column_id': 'Timeline'}, 'width': '60%'},\n",
    "                                                 {'if': {'column_id': 'Frequency'}, 'width': '15%'},\n",
    "                                                 {'if': {'column_id': 'Keyword'}, 'width': '25%'},],\n",
    "                       style_as_list_view=True,\n",
    "                       ),    # end DataTable\n",
    "                   ], style={'backgroundColor': '#fff', 'margin-right':'15px'}) # end Div\n",
    "               ], width={\"size\": 7}), # end dbc.Col\n",
    "               html.Td(style={'width':'20px'}),\n",
    "               dbc.Col([\n",
    "                   html.Div([\n",
    "                       html.H5(\"Summary Statistics\")\n",
    "                   ], style=divHeaderStyle), # end Div\n",
    "                   html.Div([\n",
    "                       html.Div(id='stats_abstract'),\n",
    "                       html.Div(id='stats_num_keywords'),\n",
    "                       html.Div(id='stats_year'),\n",
    "                       html.Div(id='stats_month'),\n",
    "                   ], style={'height': '377px','overflow':'auto', 'backgroundColor':'#fff', 'text-align': 'center', 'padding-left': '40px'}), # end Div\n",
    "               ], width={\"size\": 4}), # end Col\n",
    "            ], style={'margin-top':'2px'}), # end third dbc.Row\n",
    "           html.Tr([\n",
    "                    html.Td([\n",
    "                        html.Div([], style={'height':'16px'})\n",
    "                         ], colSpan=4)\n",
    "                   ]), # end html.Tr\n",
    "               dbc.Row([\n",
    "                   html.Td(style={'width':'2.5rem'}),\n",
    "                   dbc.Col([\n",
    "                   html.Div([\n",
    "                       html.H5(\"Abstract Length\")\n",
    "                   ], style=divHeaderStyle3), # end Div\n",
    "                   html.Div([dcc.Graph(id='abstract_histogram')],style={'width':'40.5rem','margin-left':'1rem'})\n",
    "               ], width={\"size\": 5}), # end dbc.Col\n",
    "                   html.Td(style={'width':'2.5rem'}),\n",
    "               dbc.Col([\n",
    "                   html.Div([\n",
    "                       html.H5(\"Number of Keywords\")\n",
    "                   ], style=divHeaderStyle4), # end Div\n",
    "                   html.Div([dcc.Graph(id='keyword_histogram')],style={'width':'40.5rem','margin-left':'2.2rem'})\n",
    "               ], width={\"size\": 5}), # end Col\n",
    "           ], style={'margin-top':'2px'}), # end third dbc.Row\n",
    "       ], label='Dataset', style={'backgroundColor':'#dcdcdc'}), # end dbc.Tab\n",
    "       dbc.Tab([\n",
    "           html.Table([\n",
    "               html.Tr([html.Td([html.Div([], style={'height':'40px'})], colSpan=3)]), # end html.Tr\n",
    "               html.Tr([\n",
    "                   html.Td([html.Div([], style={'width':'250px'})]), # empty space\n",
    "                   html.Td([\n",
    "                       html.Div([html.H5('Vocabulary Table')], style=divHeaderStyle), # end Div\n",
    "                       html.Div([\n",
    "                           dash_table.DataTable(\n",
    "                               id='vocab_table',\n",
    "                               columns=[{\"name\": i, \"id\": i} for i in vocabulary.columns],\n",
    "                               data=vocabulary.to_dict('records'),\n",
    "                               #css=[{\"selector\": \".dash-table-container tr\", \n",
    "                               #      \"rule\":'max-height: \"1500px\";'}],\n",
    "                               sort_action=\"native\",\n",
    "                               filter_action='native',\n",
    "                               fixed_rows={'headers': True},\n",
    "                               style_table={'width':'1000px', 'overflowY': 'auto'},\n",
    "                               style_cell={'whiteSpace': 'normal', 'textAlign': 'left', 'height':'auto',\n",
    "                                                        'verticalAlign':'top',\n",
    "                                                        # all three widths are needed\n",
    "                                                        'minWidth': '100px', 'width': '500px', 'maxWidth': '800px',},\n",
    "                               style_header=terms_style_header,\n",
    "                               style_data=terms_style_data,\n",
    "                               style_cell_conditional=[{'if': {'column_id': 'Term'}, 'width': '150px'}],\n",
    "                               style_as_list_view=True),    # end DataTable\n",
    "                       ], style={'backgroundColor':'#fff'}), # end html.Div\n",
    "                   ]), # end html.Td\n",
    "               ]), # end html.Tr\n",
    "               html.Tr([html.Td([html.Div([], style={'height':'40px'})], colSpan=4)]), # end html.Tr\n",
    "           ]), # end html.Table\n",
    "       ], label='Vocabulary', style={'backgroundColor':'#dcdcdc'}), # end dbc.Tab\n",
    "    ]), # end dbc.Tabs\n",
    "    \n",
    "    # dcc.Store inside the app that stores the intermediate value\n",
    "    dcc.Store(id='clusters_summary'),\n",
    "    dcc.Store(id='clusters_term'),\n",
    "    dcc.Store(id='predictions'),\n",
    "    dcc.Store(id='unique_terms'),         # a set of unique terms\n",
    "    dcc.Store(id='terms_per_year')       # term distribution per year\n",
    "]) # end html.Main"
   ]
  },
  {
   "cell_type": "markdown",
   "id": "138f39c9",
   "metadata": {
    "id": "138f39c9"
   },
   "source": [
    "### Helper Functions"
   ]
  },
  {
   "cell_type": "code",
   "execution_count": 21,
   "id": "ce2235e5",
   "metadata": {
    "executionInfo": {
     "elapsed": 13,
     "status": "ok",
     "timestamp": 1676251386599,
     "user": {
      "displayName": "Shridhar Kshirsagar",
      "userId": "07304630140660921448"
     },
     "user_tz": 360
    },
    "id": "ce2235e5"
   },
   "outputs": [],
   "source": [
    "def get_topics_subset(df_in, clusters_list):\n",
    "    # print(\"hi\")\n",
    "    # return a subset of dataframe that contains the topic ids\n",
    "    return df_in[df_in['Topic Id'].isin(clusters_list)]"
   ]
  },
  {
   "cell_type": "code",
   "execution_count": 22,
   "id": "94198c70",
   "metadata": {
    "executionInfo": {
     "elapsed": 11,
     "status": "ok",
     "timestamp": 1676251386600,
     "user": {
      "displayName": "Shridhar Kshirsagar",
      "userId": "07304630140660921448"
     },
     "user_tz": 360
    },
    "id": "94198c70"
   },
   "outputs": [],
   "source": [
    "def get_year_subset(low, high, df_in):\n",
    "    '''Return a subset of data'''\n",
    "    return df_in[df_in['Year'].isin(range(low, high+1))]"
   ]
  },
  {
   "cell_type": "code",
   "execution_count": 23,
   "id": "ff5e89a5",
   "metadata": {
    "executionInfo": {
     "elapsed": 10,
     "status": "ok",
     "timestamp": 1676251386601,
     "user": {
      "displayName": "Shridhar Kshirsagar",
      "userId": "07304630140660921448"
     },
     "user_tz": 360
    },
    "id": "ff5e89a5"
   },
   "outputs": [],
   "source": [
    "def get_unique_terms(df):\n",
    "    # get a set of all unique terms\n",
    "    return set(', '.join(list(df['Terms'].values)).split(', '))"
   ]
  },
  {
   "cell_type": "code",
   "execution_count": 24,
   "id": "1eb8421e",
   "metadata": {
    "executionInfo": {
     "elapsed": 178,
     "status": "ok",
     "timestamp": 1676251386770,
     "user": {
      "displayName": "Shridhar Kshirsagar",
      "userId": "07304630140660921448"
     },
     "user_tz": 360
    },
    "id": "1eb8421e"
   },
   "outputs": [],
   "source": [
    "def get_topic_unique_terms(df_summary):\n",
    "    '''Unique terms per topic'''\n",
    "\n",
    "    # create a dataframe of all terms\n",
    "    terms_df = pd.DataFrame(dict({'Term': ', '.join(list(df_summary['Terms'].values)).split(', ')}))\n",
    "    # count each term\n",
    "    terms_df = terms_df['Term'].value_counts().reset_index()\n",
    "    terms_df.rename(columns={'Term':'Freq', 'index':'Term'}, inplace=True)\n",
    "    # keep only unique terms\n",
    "    terms_df = terms_df[terms_df['Freq'] == 1]\n",
    "    \n",
    "    # get unique terms for each topic\n",
    "    df_summary['Unique Terms'] = df_summary['Terms'].apply(lambda x:  \n",
    "                    ', '.join(list(set(x.split(', ')).intersection(set(list(terms_df['Term'].values))))))\n",
    "    \n",
    "    return df_summary"
   ]
  },
  {
   "cell_type": "markdown",
   "id": "1a6f0f6d",
   "metadata": {
    "id": "1a6f0f6d"
   },
   "source": [
    "### Journal Trend Tab: Callback Functions"
   ]
  },
  {
   "cell_type": "markdown",
   "id": "c6f72bd8",
   "metadata": {
    "id": "c6f72bd8"
   },
   "source": [
    "#### Button: Generate Topics"
   ]
  },
  {
   "cell_type": "code",
   "execution_count": 25,
   "id": "e296e892",
   "metadata": {
    "executionInfo": {
     "elapsed": 18,
     "status": "ok",
     "timestamp": 1676251386771,
     "user": {
      "displayName": "Shridhar Kshirsagar",
      "userId": "07304630140660921448"
     },
     "user_tz": 360
    },
    "id": "e296e892"
   },
   "outputs": [],
   "source": [
    "@app.callback(Output('clusters_summary', 'data'),\n",
    "              Output('predictions', 'data'),\n",
    "              Output('clusters_checkbox', 'options'),\n",
    "              Output('btn_clear_filters', 'n_clicks'),\n",
    "              Output(\"loading-output-1\", \"children\"),\n",
    "              Input('btn_submit', 'n_clicks'),\n",
    "              State('num_clusters_slider', 'value'),\n",
    "              State('bias_input', 'value'),\n",
    "              prevent_initial_call=False)\n",
    "def generate_topics(n_clicks, num_clusters_input, bias_amount_input):\n",
    "    global num_clusters, bias_amount, x_vector, terms_matrix_df, terms_label, data\n",
    "    \n",
    "    # update global variable for num_clusters and bias_input -- to be used by other callbacks\n",
    "    num_clusters = num_clusters_input\n",
    "    bias_amount = bias_amount_input\n",
    "    \n",
    "    # get trending topics\n",
    "    summary, predictions = cal_cluster_bias(data, x_vector, terms_matrix_df, terms_label, \n",
    "                                                bias_amount, num_clusters)\n",
    "    summary = get_topic_unique_terms(summary)\n",
    "    # print(\"hi\")\n",
    "    print(summary.to_json())\n",
    "    \n",
    "    # build cluster id check boxes\n",
    "    options_list = []\n",
    "    for i in range(1, num_clusters+1):\n",
    "        options_list.append({'label': ' ' + str(i), 'value': i})\n",
    "    \n",
    "    # store dataframes -- to be called by other callback functions\n",
    "    return summary.to_json(), predictions.to_json(), \\\n",
    "           options_list, 1, ''"
   ]
  },
  {
   "cell_type": "markdown",
   "id": "d8ca8648",
   "metadata": {
    "id": "d8ca8648"
   },
   "source": [
    "#### Button: Clear Filters"
   ]
  },
  {
   "cell_type": "code",
   "execution_count": 26,
   "id": "14ea5fc2",
   "metadata": {
    "executionInfo": {
     "elapsed": 18,
     "status": "ok",
     "timestamp": 1676251386773,
     "user": {
      "displayName": "Shridhar Kshirsagar",
      "userId": "07304630140660921448"
     },
     "user_tz": 360
    },
    "id": "14ea5fc2"
   },
   "outputs": [],
   "source": [
    "@app.callback(Output('clusters_checkbox', 'value'),\n",
    "              Input('btn_clear_filters', 'n_clicks'), \n",
    "              prevent_initial_call=True)\n",
    "def clear_filters(n_clicks):\n",
    "    '''Clear the checkboxes for Topic Filters'''\n",
    "    return []"
   ]
  },
  {
   "cell_type": "markdown",
   "id": "4f34be87",
   "metadata": {
    "id": "4f34be87"
   },
   "source": [
    "#### Diagnostics Tab: Bias Evaluation Figure"
   ]
  },
  {
   "cell_type": "code",
   "execution_count": 27,
   "id": "0fb745ab",
   "metadata": {
    "executionInfo": {
     "elapsed": 18,
     "status": "ok",
     "timestamp": 1676251386774,
     "user": {
      "displayName": "Shridhar Kshirsagar",
      "userId": "07304630140660921448"
     },
     "user_tz": 360
    },
    "id": "0fb745ab"
   },
   "outputs": [],
   "source": [
    "@app.callback(Output('bias_evaluation_fig', 'figure'),\n",
    "              Output('bias_eval_header', 'children'),\n",
    "              Input('btn_submit', 'n_clicks'),\n",
    "              prevent_initial_call=False)\n",
    "def build_bias_evaluation_plot(btn_submit_n_clicks):\n",
    "    global num_clusters\n",
    "    \n",
    "    # load the model result for selected k-value\n",
    "    df_result = pd.read_csv('results/results_' + str(num_clusters) + '.csv')\n",
    "    df_result.rename(columns={'step':'Bias Amount', 'avg_silhouette_by_std_year': 'Average Trend Score'}, \n",
    "                     inplace=True)\n",
    "    # print(\"hi\")\n",
    "    \n",
    "    # create a line plot of Bias Amount vs. Avg Trend Score\n",
    "    fig = px.line(df_result, x='Bias Amount', y='Average Trend Score', markers=True)\n",
    "    \n",
    "    # annotate the cutoff point\n",
    "    cutoff = df_result[df_result['Average Trend Score'] == df_result['Average Trend Score'].max()]\n",
    "    cutoff_trend = str(np.round(cutoff['Average Trend Score'].values[0], 5))\n",
    "    fig.add_annotation(x=cutoff['Bias Amount'].values[0], y=cutoff['Average Trend Score'].values[0],\n",
    "                       text=\"Cutoff (\" + str(cutoff['Bias Amount'].values[0]) + ', ' + cutoff_trend + ')',\n",
    "                       ay=-35, yanchor=\"bottom\", \n",
    "                       showarrow=True, arrowhead=1, arrowsize=1, arrowwidth=2)\n",
    "    \n",
    "    # set plot's properties\n",
    "    fig.update_layout(#title_text='<b>Average Trend Score per Bias Amount</b>',\n",
    "                      xaxis_title_text='<b>Bias Amount</b>', \n",
    "                      yaxis_title_text='<b>Average Trend Score</b>',\n",
    "                      width=650, height=500)\n",
    "    \n",
    "    return fig, 'Bias Amounts (k=' + str(num_clusters) + ')'"
   ]
  },
  {
   "cell_type": "markdown",
   "id": "d9a8c9df",
   "metadata": {
    "id": "d9a8c9df"
   },
   "source": [
    "#### Summary Div"
   ]
  },
  {
   "cell_type": "code",
   "execution_count": 28,
   "id": "9c9cf114",
   "metadata": {
    "executionInfo": {
     "elapsed": 18,
     "status": "ok",
     "timestamp": 1676251386776,
     "user": {
      "displayName": "Shridhar Kshirsagar",
      "userId": "07304630140660921448"
     },
     "user_tz": 360
    },
    "id": "9c9cf114"
   },
   "outputs": [],
   "source": [
    "def get_selected_topics(clusters_list_in, num_clusters):\n",
    "    # get a list of selected topics\n",
    "    clusters_list = clusters_list_in\n",
    "    if clusters_list is None or len(clusters_list) == 0:\n",
    "        clusters_list = [x for x in range(1, num_clusters+1)]\n",
    "    \n",
    "    # return a list of cluster ids\n",
    "    return clusters_list"
   ]
  },
  {
   "cell_type": "code",
   "execution_count": 29,
   "id": "c7eb828b",
   "metadata": {
    "executionInfo": {
     "elapsed": 18,
     "status": "ok",
     "timestamp": 1676251386777,
     "user": {
      "displayName": "Shridhar Kshirsagar",
      "userId": "07304630140660921448"
     },
     "user_tz": 360
    },
    "id": "c7eb828b"
   },
   "outputs": [],
   "source": [
    "# set style for stats tables\n",
    "topic_style_table={'width': '270px'}\n",
    "topic_style_header ={'backgroundColor':\"#B9DCD2\", \n",
    "                     'border': '1px solid green', \n",
    "                     'textAlign': 'center', 'fontWeight':'bold',\n",
    "                     'height': 'auto', 'whiteSpace':'normal'}\n",
    "topic_style_data = {'backgroundColor':\"lavender\", 'border': '1px solid white', 'textAlign':'center'}\n",
    "topic_style_cell={'whiteSpace': 'normal', 'height':'auto',\n",
    "                  # all three widths are needed\n",
    "                  'minWidth': '40px', 'width': '80px', 'maxWidth': '100px'}\n",
    "\n",
    "# topic header style\n",
    "topic_header_style={'height':'50px', 'fontSize':'14pt', 'color':'blue'}\n",
    "\n",
    "\n",
    "def build_summary_div(df_in, divHeader):\n",
    "    # build html Div for topic summary\n",
    "    htmlDiv = html.Div([\n",
    "        html.Div(divHeader, style=topic_header_style),\n",
    "        html.Div([\n",
    "            dash_table.DataTable(\n",
    "                columns=[{\"name\": i, \"id\": i} for i in df_in.columns],\n",
    "                data=df_in.to_dict('records'),\n",
    "                style_table=topic_style_table,\n",
    "                style_cell=topic_style_cell,\n",
    "                style_header=topic_style_header,\n",
    "                style_data=topic_style_data,\n",
    "                style_as_list_view=True,\n",
    "            ) # end DataTable    \n",
    "        ], style={'margin-left':'15px', 'margin-bottom':'15px'}), # end Div\n",
    "    ]), # end Div\n",
    "    \n",
    "    return htmlDiv"
   ]
  },
  {
   "cell_type": "code",
   "execution_count": 30,
   "id": "3168b42c",
   "metadata": {
    "executionInfo": {
     "elapsed": 87,
     "status": "ok",
     "timestamp": 1676251386847,
     "user": {
      "displayName": "Shridhar Kshirsagar",
      "userId": "07304630140660921448"
     },
     "user_tz": 360
    },
    "id": "3168b42c"
   },
   "outputs": [],
   "source": [
    "@app.callback(Output(\"num_topics\", \"children\"),\n",
    "              Output('top_topic_div', 'children'),\n",
    "              Output(\"bias_amount_span\", \"children\"),\n",
    "              Output('num_unique_terms', 'children'),\n",
    "              Output('unique_terms_table', 'data'),\n",
    "              Output('unique_terms_table', 'columns'),\n",
    "              Output('unique_terms_table', 'filter_query'),\n",
    "              Output('abstract_table', 'data'),\n",
    "              Output('abstract_table', 'columns'),\n",
    "              Output('abstract_table', 'filter_query'),\n",
    "              Output('topic_clusters_table', 'data'),\n",
    "              Output('topic_clusters_table', 'columns'),\n",
    "              Output('topic_clusters_table', 'filter_query'),\n",
    "              Output('trending_topics_data_table', 'data'),\n",
    "              Output('trending_topics_data_table', 'columns'),\n",
    "              Output('trending_topics_data_table', 'filter_query'),\n",
    "              Input('clusters_checkbox', 'value'),\n",
    "              Input('clusters_summary', 'data'),\n",
    "              Input('predictions', 'data'))\n",
    "def update_summary(clusters_list_in, summary_json, predictions_json):\n",
    "    global num_clusters, bias_amount\n",
    "    \n",
    "    # get a list of selected topics\n",
    "    clusters_list = get_selected_topics(clusters_list_in, num_clusters)\n",
    "    \n",
    "    # get topic summary\n",
    "    summary = get_topics_subset(pd.read_json(summary_json), clusters_list)\n",
    "    # format numeric fields\n",
    "    for col in ['Article %', 'Trend Score', 'Silhouette Score', 'Bias Avg Std Year']:\n",
    "        summary[col] = summary[col].apply(lambda x: float(str(np.round(x, 4))[:7]))\n",
    "    \n",
    "    # build summary data frame for top trending topic\n",
    "    top_topic = pd.DataFrame(summary[['Topic Id', 'Timeline', 'Number of Articles',\n",
    "                                      'Article %', 'Trend Score', 'Silhouette Score', \n",
    "                                      'Bias Avg Std Year']].sort_values(by='Trend Score', ascending=False).iloc[0]).T\n",
    "    top_topic = top_topic.T.reset_index()\n",
    "    top_topic.rename(columns={top_topic.columns[-1]: 'Summary', 'index':' '}, inplace=True)\n",
    "    \n",
    "    # build html Div for top trending topic\n",
    "    top_topic_div = build_summary_div(top_topic, 'Top Trending Topic')\n",
    "    \n",
    "    # count all unique terms\n",
    "    num_unique_terms = len(get_unique_terms(summary))\n",
    "    \n",
    "    # topic unique terms\n",
    "    topic_unique_terms = summary[['Topic Id', 'Unique Terms']]\n",
    "    \n",
    "    # prepare data for unique_terms_table\n",
    "    topic_unique_terms_data = topic_unique_terms.to_dict('records')\n",
    "    topic_unique_terms_data_cols = [{\"name\": i, \"id\": i} for i in topic_unique_terms.columns]\n",
    "    \n",
    "    # prepare data for building abstracts table\n",
    "    predictions = get_topics_subset(pd.read_json(predictions_json), clusters_list).sort_values(by='Topic Id')\n",
    "    abstracts_data = predictions[['Topic Id', 'Abstract']].to_dict('records')\n",
    "    abstracts_data_cols = [{\"name\": i, \"id\": i} for i in ['Topic Id', 'Abstract']]\n",
    "    # authors_data_cols = [{\"name\": i, \"id\": i} for i in ['Topic Id', 'Authors']]\n",
    "\n",
    "    \n",
    "    # build topic clusters table\n",
    "    selected_cols = ['Topic Id', 'Terms', 'Timeline', 'Number of Articles', 'Article %',\n",
    "                     'Trend Score', 'Silhouette Score', 'Bias Avg Std Year']\n",
    "    summary_data = summary[selected_cols].to_dict('records')\n",
    "    summary_data_cols = [{'name': i, 'id': i} for i in selected_cols]\n",
    "    \n",
    "    # build topic clusters table\n",
    "    trending_topics_cols = ['Year','Topic Id','Number of Articles','Keywords']\n",
    "    trending_topics_data = second_trending_topics[trending_topics_cols].to_dict('records')\n",
    "    trending_topics_data_cols = [{'name': i, 'id': i} for i in trending_topics_cols]\n",
    "    \n",
    "    \n",
    "    return html.H2(str(len(clusters_list))), top_topic_div, html.H2(str(bias_amount)), \\\n",
    "           html.H2(str(num_unique_terms)), \\\n",
    "           topic_unique_terms_data, topic_unique_terms_data_cols, '', \\\n",
    "           abstracts_data, abstracts_data_cols, '', \\\n",
    "           summary_data, summary_data_cols, '', \\\n",
    "           trending_topics_data, trending_topics_data_cols, '' "
   ]
  },
  {
   "cell_type": "markdown",
   "id": "0762c9c9",
   "metadata": {
    "id": "0762c9c9"
   },
   "source": [
    "#### Clusters Distribution per Year"
   ]
  },
  {
   "cell_type": "code",
   "execution_count": 31,
   "id": "6ab557cb",
   "metadata": {
    "executionInfo": {
     "elapsed": 5,
     "status": "ok",
     "timestamp": 1676251386847,
     "user": {
      "displayName": "Shridhar Kshirsagar",
      "userId": "07304630140660921448"
     },
     "user_tz": 360
    },
    "id": "6ab557cb"
   },
   "outputs": [],
   "source": [
    "def build_trend_topics_plot(predictions_json, clusters_list_in, figWidth, figHeight):\n",
    "    global clusters_color, num_clusters\n",
    "    \n",
    "    # read predictions json file\n",
    "    predictions = pd.read_json(predictions_json)\n",
    "    \n",
    "    # get a list of selected topics\n",
    "    clusters_list = get_selected_topics(clusters_list_in, num_clusters)\n",
    "    \n",
    "    # get clusters distribution\n",
    "    clusters_dist = get_clusters_dist(predictions)\n",
    "    clusters_dist = clusters_dist[clusters_dist['Topic Id'].isin(clusters_list)]\n",
    "    clusters_dist['Topic Id'] = clusters_dist['Topic Id'].astype('category')\n",
    "    \n",
    "    \n",
    "    # create line plot, first sort by Year\n",
    "    clusters_dist.sort_values(by='Year', inplace=True)\n",
    "    \n",
    "    # set layout for go Figure\n",
    "    layout = go.Layout(autosize=False, width=figWidth, height=figHeight)\n",
    "    \n",
    "    # set figure property\n",
    "    fig_line = go.Figure(layout=layout)\n",
    "    \n",
    "    for topic_id in clusters_list:\n",
    "        topic_df = clusters_dist[clusters_dist['Topic Id'] == topic_id]\n",
    "        fig_line.add_traces(data=go.Scatter(x=topic_df['Year'], \n",
    "                                            y=topic_df['Number of Articles'],\n",
    "                                            mode='lines+markers', \n",
    "                                            line_shape='spline', \n",
    "                                            name=str(topic_id),\n",
    "                                            connectgaps=True,\n",
    "                                            line_color=clusters_color[topic_id-1],\n",
    "                                            marker_color=clusters_color[topic_id-1]))\n",
    "    \n",
    "    fig_line.update_layout(xaxis_title=\"<b>Year</b>\",\n",
    "                           yaxis_title=\"<b>Number of Articles</b>\",\n",
    "                           legend_title=\"Topic Id\", \n",
    "                           legend=dict(orientation=\"h\", yanchor=\"top\", y=1.20, xanchor=\"left\", x=0))\n",
    "    \n",
    "    return fig_line"
   ]
  },
  {
   "cell_type": "code",
   "execution_count": 32,
   "id": "9b9ab0f1",
   "metadata": {
    "executionInfo": {
     "elapsed": 6,
     "status": "ok",
     "timestamp": 1676251386848,
     "user": {
      "displayName": "Shridhar Kshirsagar",
      "userId": "07304630140660921448"
     },
     "user_tz": 360
    },
    "id": "9b9ab0f1"
   },
   "outputs": [],
   "source": [
    "@app.callback(Output('clusters_dist_line_simple_ui', 'figure'),\n",
    "              Input('predictions', 'data'),\n",
    "              Input('clusters_checkbox', 'value'))\n",
    "def build_trend_plot_simple_ui(predictions_json, clusters_list_in):\n",
    "    \n",
    "    return build_trend_topics_plot(predictions_json, clusters_list_in, 720, figHeight)"
   ]
  },
  {
   "cell_type": "code",
   "execution_count": 33,
   "id": "643286ca",
   "metadata": {
    "executionInfo": {
     "elapsed": 5,
     "status": "ok",
     "timestamp": 1676251386848,
     "user": {
      "displayName": "Shridhar Kshirsagar",
      "userId": "07304630140660921448"
     },
     "user_tz": 360
    },
    "id": "643286ca"
   },
   "outputs": [],
   "source": [
    "@app.callback(Output('clusters_dist_line', 'figure'),\n",
    "              Input('predictions', 'data'),\n",
    "              Input('clusters_checkbox', 'value'))\n",
    "def build_trend_plot_advanced_ui(predictions_json, clusters_list_in):\n",
    "    \n",
    "    return build_trend_topics_plot(predictions_json, clusters_list_in, 720, figHeight)"
   ]
  },
  {
   "cell_type": "markdown",
   "id": "aeddcfa3",
   "metadata": {
    "id": "aeddcfa3"
   },
   "source": [
    "#### Clusters Timeline"
   ]
  },
  {
   "cell_type": "code",
   "execution_count": 34,
   "id": "a1d9781d",
   "metadata": {
    "executionInfo": {
     "elapsed": 5,
     "status": "ok",
     "timestamp": 1676251386848,
     "user": {
      "displayName": "Shridhar Kshirsagar",
      "userId": "07304630140660921448"
     },
     "user_tz": 360
    },
    "id": "a1d9781d"
   },
   "outputs": [],
   "source": [
    "def prepare_timeline_for_Gantt(timeline_df):\n",
    "    '''Prepare timeline data for building Gantt chart'''\n",
    "    \n",
    "    clusters_list = []\n",
    "    start_list = []\n",
    "    finish_list = []\n",
    "    \n",
    "    for i, cluster_id in enumerate(timeline_df['Topic Id'].values):\n",
    "        timeline_list = timeline_df['Timeline'].values[i].split(', ')\n",
    "    \n",
    "        for time_period in timeline_list:\n",
    "            time_range = time_period.split('-')\n",
    "            clusters_list.append(str(cluster_id))\n",
    "            start_list.append(time_range[0] + '-01-01')\n",
    "            finish_list.append(time_range[-1] + '-12-31')\n",
    "    \n",
    "    return pd.DataFrame(dict({'Topic Id':clusters_list, 'Start':start_list, 'Finish':finish_list}))"
   ]
  },
  {
   "cell_type": "code",
   "execution_count": 35,
   "id": "f9569cd5",
   "metadata": {
    "executionInfo": {
     "elapsed": 5,
     "status": "ok",
     "timestamp": 1676251386848,
     "user": {
      "displayName": "Shridhar Kshirsagar",
      "userId": "07304630140660921448"
     },
     "user_tz": 360
    },
    "id": "f9569cd5"
   },
   "outputs": [],
   "source": [
    "@app.callback(Output('clusters_timeline', 'figure'),\n",
    "              Input('clusters_summary', 'data'),\n",
    "              Input('clusters_checkbox', 'value'))\n",
    "def build_clusters_timeline(summary_json, clusters_list_in):\n",
    "    global num_clusters, clusters_color\n",
    "    \n",
    "    # get a list of selected topics\n",
    "    clusters_list = get_selected_topics(clusters_list_in, num_clusters)\n",
    "    \n",
    "    # get topic summary\n",
    "    summary = get_topics_subset(pd.read_json(summary_json), clusters_list)\n",
    "    \n",
    "    # build timeline data for clusters\n",
    "    timeline_data = prepare_timeline_for_Gantt(summary[['Topic Id', 'Timeline']])\n",
    "    \n",
    "    # build color map\n",
    "    topic_colors = [clusters_color[i-1] for i in clusters_list]\n",
    "    clusters_list_str = map(str, clusters_list)\n",
    "    discrete_map_resource = dict(zip(clusters_list_str, topic_colors))\n",
    "    \n",
    "    # create Gantt chart\n",
    "    fig = px.timeline(timeline_data, x_start=\"Start\", x_end=\"Finish\", y=\"Topic Id\", color=\"Topic Id\",\n",
    "                      color_discrete_map=discrete_map_resource)\n",
    "                      #color_discrete_sequence=topic_colors)\n",
    "    \n",
    "    # set title for axes\n",
    "    fig.layout.xaxis.title = \"<b>Year</b>\"\n",
    "    fig.layout.yaxis.title = \"<b>Topic Id</b>\"\n",
    "    #fig.update_xaxes(dtick=1)\n",
    "    \n",
    "    # Set figure's title and legend\n",
    "    fig.update_layout(width=630, height=380,\n",
    "                      legend=dict(orientation=\"h\", yanchor=\"top\", y=1.20, xanchor=\"left\", x=0))\n",
    "    \n",
    "    return fig"
   ]
  },
  {
   "cell_type": "markdown",
   "id": "6723cf02",
   "metadata": {
    "id": "6723cf02"
   },
   "source": [
    "#### Cluster Terms"
   ]
  },
  {
   "cell_type": "code",
   "execution_count": 36,
   "id": "634017bc",
   "metadata": {
    "executionInfo": {
     "elapsed": 6,
     "status": "ok",
     "timestamp": 1676251386849,
     "user": {
      "displayName": "Shridhar Kshirsagar",
      "userId": "07304630140660921448"
     },
     "user_tz": 360
    },
    "id": "634017bc"
   },
   "outputs": [],
   "source": [
    "from wordcloud import WordCloud\n",
    "from io import BytesIO\n",
    "import base64\n",
    "import matplotlib.pyplot as plt\n",
    "\n",
    "def plot_wordcloud(data_in):\n",
    "    d = {a: x for a, x in data_in.values}\n",
    "    wc = WordCloud(background_color='white', width=490, height=380)\n",
    "    wc.fit_words(d)\n",
    "    \n",
    "    return wc.to_image()\n",
    "\n",
    "@app.callback(Output('cluster_terms_fig', 'src'),\n",
    "              Input('clusters_summary', 'data'),\n",
    "              Input('clusters_checkbox', 'value'))\n",
    "def create_cluster_terms_plot(summary_json, clusters_list_in):\n",
    "    global num_clusters\n",
    "    \n",
    "    # get a list of cluster ids\n",
    "    clusters_list = get_selected_topics(clusters_list_in, num_clusters)\n",
    "    \n",
    "    # get topic summary\n",
    "    summary = get_topics_subset(pd.read_json(summary_json), clusters_list)\n",
    "    \n",
    "    # get all terms\n",
    "    all_terms = ', '.join(list(summary['Terms'].values)).split(', ')\n",
    "    \n",
    "    # build term frequency data frame\n",
    "    df_term_feq = pd.DataFrame(dict({'Term': all_terms}))\n",
    "    df_term_feq = df_term_feq['Term'].value_counts().reset_index()\n",
    "    df_term_feq.rename(columns={'Term': 'Freq', 'index': 'Term'}, inplace=True)\n",
    "    \n",
    "    # create WordCloud\n",
    "    img = BytesIO()\n",
    "    plot_wordcloud(df_term_feq).save(img, format='PNG')\n",
    "    \n",
    "    return 'data:image/png;base64,{}'.format(base64.b64encode(img.getvalue()).decode())"
   ]
  },
  {
   "cell_type": "markdown",
   "id": "f8978b27",
   "metadata": {
    "id": "f8978b27"
   },
   "source": [
    "#### Metric Scores Bar Chart"
   ]
  },
  {
   "cell_type": "code",
   "execution_count": 37,
   "id": "e32621fd",
   "metadata": {
    "executionInfo": {
     "elapsed": 170,
     "status": "ok",
     "timestamp": 1676251387014,
     "user": {
      "displayName": "Shridhar Kshirsagar",
      "userId": "07304630140660921448"
     },
     "user_tz": 360
    },
    "id": "e32621fd"
   },
   "outputs": [],
   "source": [
    "def build_metric_barchart(summary, score_label):\n",
    "    \n",
    "    # sort the data by score_label in descending order\n",
    "    topic_scores = summary.sort_values(by=score_label, ascending=False)\n",
    "    \n",
    "    # get a list of topic ids\n",
    "    clusters_list = list(topic_scores['Topic Id'].values)\n",
    "    \n",
    "    # convert data type to string\n",
    "    topic_scores['Topic Id'] = topic_scores['Topic Id'].apply(lambda x: str(x))\n",
    "    \n",
    "    # create a horizontal bar plot\n",
    "    fig = px.bar(topic_scores, \n",
    "                 x='Topic Id', y=score_label, #text=score_label, \n",
    "                 color='Topic Id',\n",
    "                 color_discrete_sequence=[clusters_color[x-1] for x in clusters_list])\n",
    "    fig.update_traces(textposition='outside')\n",
    "    \n",
    "    # add horizontal mean line\n",
    "    mean = round(summary[score_label].mean(), 4)\n",
    "    fig.add_hline(y=mean, line_dash=\"dash\", line_color='red',\n",
    "              annotation_text=\"Mean = \" + str(mean), \n",
    "              annotation_position=\"top right\",\n",
    "              annotation_font_size=17,\n",
    "              annotation_font_color=\"red\")\n",
    "    \n",
    "    # set axis label\n",
    "    fig.layout.yaxis.title = '<b>' + score_label + '</b>'\n",
    "    fig.layout.xaxis.title = '<b>Topic Id</b>'\n",
    "    \n",
    "    # Set figure's title\n",
    "    fig.update_layout(width=600, height=377,\n",
    "                      legend=dict(orientation=\"h\", yanchor=\"top\", y=1.20, xanchor=\"left\", x=0))\n",
    "    return fig"
   ]
  },
  {
   "cell_type": "code",
   "execution_count": 38,
   "id": "04d06cc3",
   "metadata": {
    "executionInfo": {
     "elapsed": 20,
     "status": "ok",
     "timestamp": 1676251387016,
     "user": {
      "displayName": "Shridhar Kshirsagar",
      "userId": "07304630140660921448"
     },
     "user_tz": 360
    },
    "id": "04d06cc3"
   },
   "outputs": [],
   "source": [
    "@app.callback(Output('trend_score', 'figure'),\n",
    "              Output('sil_score_fig', 'figure'),\n",
    "              Output('std_years_fig', 'figure'),\n",
    "              Output('articles_pct', 'figure'),\n",
    "              Input('clusters_summary', 'data'),\n",
    "              Input('clusters_checkbox', 'value'))\n",
    "def create_metric_plots(summary_json, clusters_list_in):\n",
    "    global num_clusters\n",
    "    \n",
    "    # get a list of selected topics\n",
    "    clusters_list = get_selected_topics(clusters_list_in, num_clusters)\n",
    "    \n",
    "    # get topic summary\n",
    "    summary = get_topics_subset(pd.read_json(summary_json), clusters_list)\n",
    "    \n",
    "    # create horizontal bar charts\n",
    "    trend_score_fig = build_metric_barchart(summary, 'Trend Score')\n",
    "    sil_score_fig = build_metric_barchart(summary, 'Silhouette Score')\n",
    "    std_year_fig = build_metric_barchart(summary, 'Bias Avg Std Year')\n",
    "    article_pct_fig = build_metric_barchart(summary, 'Article %')\n",
    "    \n",
    "    return trend_score_fig, sil_score_fig, std_year_fig, article_pct_fig"
   ]
  },
  {
   "cell_type": "markdown",
   "id": "001a11c9",
   "metadata": {
    "id": "001a11c9"
   },
   "source": [
    "### Data Tab: Callback Functions"
   ]
  },
  {
   "cell_type": "markdown",
   "id": "3f946e2e",
   "metadata": {
    "id": "3f946e2e"
   },
   "source": [
    "#### Placeholder: Header Texts"
   ]
  },
  {
   "cell_type": "code",
   "execution_count": 39,
   "id": "406916ff",
   "metadata": {
    "executionInfo": {
     "elapsed": 19,
     "status": "ok",
     "timestamp": 1676251387017,
     "user": {
      "displayName": "Shridhar Kshirsagar",
      "userId": "07304630140660921448"
     },
     "user_tz": 360
    },
    "id": "406916ff"
   },
   "outputs": [],
   "source": [
    "@app.callback(Output('num_unique_keywords', 'children'),\n",
    "              Output('year_range', 'children'),\n",
    "              Output('keyword_table', 'data'),\n",
    "              Output('keyword_table', 'columns'),\n",
    "              Input('year_slider', 'value'))\n",
    "def update_data(slider_range):\n",
    "    low, high = slider_range\n",
    "    \n",
    "     # get a subset of keywords data\n",
    "    keywords_subset = get_year_subset(low, high, keywords_dist) \n",
    "    \n",
    "    # get a list of unique keywords\n",
    "    unique_keywords = list(set(keywords_subset['Token'].values))\n",
    "    \n",
    "    # get a subset of keyword_counts (with timeline)\n",
    "    kw_counts_subset = keyword_counts[keyword_counts['Keyword'].isin(unique_keywords)]\n",
    "    kw_counts_cols = [{\"name\": i, \"id\": i} for i in kw_counts_subset.columns]\n",
    "    \n",
    "    # get number of unique keywords\n",
    "    num_keywords = len(unique_keywords)\n",
    "    num_keywords = f\"{num_keywords:,}\"   # add coma to number if > 1000\n",
    "    \n",
    "    # get selected years from Year slider\n",
    "    year_range = str(low) if low == high else str(low) + '-' + str(high)\n",
    "    \n",
    "    return html.H2(num_keywords), html.H2(year_range), \\\n",
    "           kw_counts_subset.to_dict('records'), kw_counts_cols, "
   ]
  },
  {
   "cell_type": "markdown",
   "id": "3ede0a39",
   "metadata": {
    "id": "3ede0a39"
   },
   "source": [
    "#### Summary Statistics"
   ]
  },
  {
   "cell_type": "code",
   "execution_count": 40,
   "id": "d1f1894a",
   "metadata": {
    "executionInfo": {
     "elapsed": 20,
     "status": "ok",
     "timestamp": 1676251387019,
     "user": {
      "displayName": "Shridhar Kshirsagar",
      "userId": "07304630140660921448"
     },
     "user_tz": 360
    },
    "id": "d1f1894a"
   },
   "outputs": [],
   "source": [
    "def build_data_stats(df_in, col_name=''):\n",
    "    # build descriptive statis data frame\n",
    "    df_summary = pd.DataFrame(np.round(df_in.describe()).astype(int)).T[['min', 'max', 'mean', '50%', 'std']]\n",
    "    df_summary.rename(columns={'min': 'Min', 'max': 'Max', 'mean': 'Mean', '50%':'Median', 'std':'STD'},\n",
    "                      inplace=True)\n",
    "    \n",
    "    # get the mode(s)\n",
    "    modes = list(df_in.mode())\n",
    "    \n",
    "    # get counts for mode\n",
    "    c_text = str(df_in[df_in == modes[0]].shape[0]) + ' counts'\n",
    "    \n",
    "    # convert a list of integer to a list of string\n",
    "    modes = list(map(str, modes))\n",
    "    \n",
    "    if len(modes) == 2:\n",
    "        # join the list with \"and\"\n",
    "        m_text = [' and '.join(modes) + ' (' + c_text + ')']\n",
    "    else:\n",
    "        # join the list with a coma\n",
    "        m_text = [', '.join(modes) + ' (' + c_text + ')']\n",
    "    \n",
    "    # add column \"Mode\" to dataframe\n",
    "    df_summary['Mode'] = m_text\n",
    "    df_summary = df_summary.T.reset_index().rename(columns={'index':''})\n",
    "    \n",
    "    if len(col_name) > 0:\n",
    "        df_summary.rename(columns={df_summary.columns[-1]: col_name}, inplace=True)\n",
    "    \n",
    "    return df_summary"
   ]
  },
  {
   "cell_type": "code",
   "execution_count": 41,
   "id": "af0e1d50",
   "metadata": {
    "executionInfo": {
     "elapsed": 19,
     "status": "ok",
     "timestamp": 1676251387020,
     "user": {
      "displayName": "Shridhar Kshirsagar",
      "userId": "07304630140660921448"
     },
     "user_tz": 360
    },
    "id": "af0e1d50"
   },
   "outputs": [],
   "source": [
    "# set style for stats tables\n",
    "stats_style_table={'width': '320px'}\n",
    "stats_style_header ={'backgroundColor':\"#B9DCD2\", \n",
    "                     'border': '1px solid green', \n",
    "                     'textAlign': 'center', 'fontWeight':'bold',\n",
    "                     'height': 'auto', 'whiteSpace':'normal'}\n",
    "stats_style_data = {'backgroundColor':\"lavender\", 'border': '1px solid white', 'textAlign':'center'}\n",
    "stats_header_style={'height':'50px', 'fontSize':'14pt', 'color':'blue'}\n",
    "\n",
    "\n",
    "def build_stats_table(df_summary, col_name):\n",
    "    # build html Div for summary statistics\n",
    "    htmlDiv = html.Div([\n",
    "        html.Div(col_name, style=stats_header_style),\n",
    "        html.Div([\n",
    "            dash_table.DataTable(\n",
    "                columns=[{\"name\": i, \"id\": i} for i in df_summary.columns],\n",
    "                data=df_summary.to_dict('records'),\n",
    "                style_table=stats_style_table,\n",
    "                style_header=stats_style_header,\n",
    "                style_data=stats_style_data,\n",
    "                style_as_list_view=True,\n",
    "            ), # end DataTable      \n",
    "        ], style={'margin-left':'25px', 'margin-bottom':'15px'}), # end Div\n",
    "    ]) # end Div\n",
    "    \n",
    "    return htmlDiv"
   ]
  },
  {
   "cell_type": "code",
   "execution_count": 42,
   "id": "37ae6e18",
   "metadata": {
    "executionInfo": {
     "elapsed": 132,
     "status": "ok",
     "timestamp": 1676251387134,
     "user": {
      "displayName": "Shridhar Kshirsagar",
      "userId": "07304630140660921448"
     },
     "user_tz": 360
    },
    "id": "37ae6e18"
   },
   "outputs": [],
   "source": [
    "@app.callback(Output('num_articles', 'children'),\n",
    "              Output('stats_abstract', 'children'),\n",
    "              Output('stats_num_keywords', 'children'),\n",
    "              Output('stats_year', 'children'),\n",
    "              Output('stats_month', 'children'),\n",
    "              Input('year_slider', 'value'))\n",
    "def update_stats_tables(slider_range):\n",
    "    # year's range\n",
    "    low, high = slider_range\n",
    "    \n",
    "    # get a subset of data\n",
    "    data_subset = get_year_subset(low, high, data)\n",
    "    \n",
    "    # get the total number of articles\n",
    "    num_articles = data_subset.shape[0]\n",
    "    num_articles = f\"{num_articles:,}\"\n",
    "    \n",
    "    # build descriptive statistics Divs\n",
    "    stats_abs = build_stats_table(build_data_stats(data_subset['Abstract Length']), 'Abstract Length')\n",
    "    stats_kws = build_stats_table(build_data_stats(data_subset['Number of Keywords']), 'Number of Keywords')\n",
    "    stats_year = build_stats_table(build_data_stats(data_subset['Year']), 'Year')\n",
    "    stats_month = build_stats_table(build_data_stats(data_subset['Month_Cleaned'], 'Month'), 'Month')\n",
    "    \n",
    "    \n",
    "    return html.H2(num_articles), stats_abs, stats_kws, stats_year, stats_month"
   ]
  },
  {
   "cell_type": "markdown",
   "id": "b0d5d748",
   "metadata": {
    "id": "b0d5d748"
   },
   "source": [
    "#### Monthly Article Distribution"
   ]
  },
  {
   "cell_type": "code",
   "execution_count": 43,
   "id": "33a0e6b4",
   "metadata": {
    "executionInfo": {
     "elapsed": 8,
     "status": "ok",
     "timestamp": 1676251387135,
     "user": {
      "displayName": "Shridhar Kshirsagar",
      "userId": "07304630140660921448"
     },
     "user_tz": 360
    },
    "id": "33a0e6b4"
   },
   "outputs": [],
   "source": [
    "@app.callback(Output('monthly_dist_plot', 'figure'),\n",
    "              Input('year_slider', 'value'))\n",
    "def update_montly_dist_plot(slider_range):\n",
    "    low, high = slider_range\n",
    "    \n",
    "    # get a subset of data\n",
    "    year_dist = get_year_subset(low, high, data)\n",
    "    \n",
    "    # get monthly article distribution\n",
    "    df = year_dist[year_dist['Month_Cleaned'] != -1]\n",
    "    \n",
    "    # compute monthly average number of articles\n",
    "    df = df.groupby(['Month_Cleaned', 'Year'], \n",
    "               as_index=False)['Year'].agg('count').groupby(['Month_Cleaned'],\n",
    "                                                            as_index=False).agg('mean')\n",
    "    # rename column\n",
    "    col_label = 'Average Number of Articles'\n",
    "    df.rename(columns={'Year':col_label}, inplace=True)\n",
    "    \n",
    "    # round average number of articles to nearest integer\n",
    "    df[col_label] = df[col_label].apply(lambda x: round(x))\n",
    "    \n",
    "    # map numeric month to short month name\n",
    "    df['Month'] = df['Month_Cleaned'].apply(lambda month: datetime.datetime.strptime(str(month), \"%m\").strftime('%b'))\n",
    "    df = df.sort_values(by='Month_Cleaned', ascending=True)   # sort data by month\n",
    "    \n",
    "    # create line plot\n",
    "    fig1 = px.line(df, x=\"Month\", y=col_label, color_discrete_sequence=['orange']*df.shape[0])\n",
    "    \n",
    "    # create scatter plot\n",
    "    fig2 = px.scatter(df, x=\"Month\", y=col_label, text=col_label,\n",
    "                      color_discrete_sequence=['white']*df.shape[0],\n",
    "                      size=[1.4]*df.shape[0])\n",
    "    fig2.update_traces(textposition=\"middle center\")\n",
    "\n",
    "    # combine fig1 and fig2 into one figure\n",
    "    fig = go.Figure(data= fig1.data + fig2.data)\n",
    "    \n",
    "    # set title and axis labels\n",
    "    #fig.layout.title = 'Monthly Articles Distribution'\n",
    "    fig.layout.yaxis.title = '<b>' + col_label + '</b>'\n",
    "    fig.layout.xaxis.title = '<b>Month</b>'\n",
    "    \n",
    "    # Set figure's size\n",
    "    fig.update_layout(width=655, height=figHeight)\n",
    "    \n",
    "    return fig"
   ]
  },
  {
   "cell_type": "markdown",
   "id": "b5a1f6a4",
   "metadata": {
    "id": "b5a1f6a4"
   },
   "source": [
    "#### Figure: Frequency Distribution per Year"
   ]
  },
  {
   "cell_type": "code",
   "execution_count": 44,
   "id": "78ef3f58",
   "metadata": {
    "executionInfo": {
     "elapsed": 9,
     "status": "ok",
     "timestamp": 1676251387136,
     "user": {
      "displayName": "Shridhar Kshirsagar",
      "userId": "07304630140660921448"
     },
     "user_tz": 360
    },
    "id": "78ef3f58"
   },
   "outputs": [],
   "source": [
    "@app.callback(Output('freq_dist_plot', 'figure'),\n",
    "              Input('year_slider', 'value'))\n",
    "def update_freq_dist_plot(slider_range):\n",
    "    low, high = slider_range\n",
    "    \n",
    "    # get subset of data\n",
    "    keywords_subset = get_year_subset(low, high, keywords_per_year)\n",
    "    articles_subset = get_year_subset(low, high, article_dist)\n",
    "    data_subset = get_year_subset(low, high, data)\n",
    "    \n",
    "    # Create traces\n",
    "    fig = go.Figure()\n",
    "    \n",
    "    # plot Number of Keywords distribution\n",
    "    fig.add_trace(go.Scatter(x=keywords_subset['Year'], y=keywords_subset['Number of Keywords'],\n",
    "                             mode='lines+markers', name='Total Number of Keywords'))\n",
    "    \n",
    "    # plot Number of Unique Keywords distribution\n",
    "    fig.add_trace(go.Scatter(x=keywords_subset['Year'], y=keywords_subset['Number of Unique Keywords'],\n",
    "                        mode='lines+markers',\n",
    "                        name='Total Number of Unique Keywords'))\n",
    "    \n",
    "    # plot articles distribution\n",
    "    fig.add_trace(go.Scatter(x=articles_subset['Year'], y=articles_subset['Number of Articles'], \n",
    "                             mode='lines+markers', name='Total Number of Articles'))\n",
    "\n",
    "    # get median abstract length per year\n",
    "    abstract_len = data_subset.groupby('Year')['Abstract Length'].median().reset_index().rename(\n",
    "        columns={'Abstract Length': 'Median Abstract Length'})\n",
    "    fig.add_trace(go.Scatter(x=abstract_len['Year'], y=abstract_len['Median Abstract Length'],\n",
    "                             mode='lines+markers', name='Median Abstract Length'))\n",
    "\n",
    "    if low < 2010 and high > 2014:\n",
    "        # draw rectangle box\n",
    "        fig.add_vrect(x0=\"2010\", x1=\"2014\", \n",
    "                      annotation_text=\"Peak Period\", annotation_position=\"top left\",\n",
    "                      fillcolor=\"orange\", opacity=0.25, line_width=0)\n",
    "\n",
    "\n",
    "    # set title for axes\n",
    "    fig.layout.xaxis.title = \"<b>Year</b>\"\n",
    "    fig.layout.yaxis.title = \"<b>Frequency</b>\"\n",
    "    \n",
    "    # set dtick distance \n",
    "    #fig.update_xaxes(dtick=2)\n",
    "    \n",
    "    # Set figure's title and legend\n",
    "    fig.update_layout(legend=dict(orientation=\"h\", yanchor=\"bottom\", y=1.01, xanchor=\"right\", x=0.98), \n",
    "                      width=700, height=figHeight)\n",
    "    \n",
    "    return fig"
   ]
  },
  {
   "cell_type": "markdown",
   "id": "cd203797",
   "metadata": {
    "id": "cd203797"
   },
   "source": [
    "#### Figure: Abstract & Keyword Histograms"
   ]
  },
  {
   "cell_type": "code",
   "execution_count": 45,
   "id": "a0b25bd6",
   "metadata": {
    "executionInfo": {
     "elapsed": 9,
     "status": "ok",
     "timestamp": 1676251387137,
     "user": {
      "displayName": "Shridhar Kshirsagar",
      "userId": "07304630140660921448"
     },
     "user_tz": 360
    },
    "id": "a0b25bd6"
   },
   "outputs": [],
   "source": [
    "def build_histogram(df_in, col, y_label='Number of Articles'):\n",
    "    '''\n",
    "    Create and return a histogram of data distribution.\n",
    "    \n",
    "    Parameters:\n",
    "    - df_in: a pandas dataframe\n",
    "    - col: name of column\n",
    "    '''\n",
    "    \n",
    "    # draw the histogram\n",
    "    fig = px.histogram(df_in, x=col)\n",
    "\n",
    "    # compute mean and median\n",
    "    mean_len = round(df_in[col].mean())\n",
    "    med_len = round(df_in[col].median())\n",
    "    \n",
    "    # set label for verital mean line\n",
    "    line_label = 'Mean = Median = ' if mean_len == med_len else 'Mean = '\n",
    "    line_label = line_label + str(mean_len)\n",
    "    \n",
    "    # draw vertial median line if mean != median\n",
    "    annot_pos_mean = 'top right'  # mean\n",
    "    if mean_len != med_len:\n",
    "        # set annotation position\n",
    "        annot_pos = 'top left'        # median\n",
    "        if med_len > mean_len:\n",
    "            annot_pos_mean = 'top left'  # mean\n",
    "            annot_pos = 'top right'      # median\n",
    "        \n",
    "        # draw vertical line for median\n",
    "        fig.add_vline(x=med_len, \n",
    "                      line_width=3, line_dash=\"dash\", line_color=\"#3cb371\",\n",
    "                      annotation_text=\"Median = \" + str(med_len), \n",
    "                      annotation_position= annot_pos,\n",
    "                      annotation_font_color=\"#3cb371\")\n",
    "    \n",
    "    # draw vertical line for mean\n",
    "    fig.add_vline(x=mean_len, \n",
    "                  line_width=3, line_dash=\"dash\", line_color=\"red\",\n",
    "                  annotation_text=line_label, \n",
    "                  annotation_position=annot_pos_mean,\n",
    "                  annotation_font_color=\"red\")\n",
    "    \n",
    "    # set dtick distance \n",
    "    #fig.layout.title = \"Distribution of \" + col     # set plot's title\n",
    "    fig.layout.xaxis.title = '<b>' + col + '</b>'\n",
    "    fig.layout.yaxis.title = '<b>' + y_label + '</b>'   # set label for y-axis\n",
    "    \n",
    "    # Set figure's title and legend\n",
    "    fig.update_layout(height=figHeight)\n",
    "    \n",
    "    return fig"
   ]
  },
  {
   "cell_type": "code",
   "execution_count": 46,
   "id": "a71c4e97",
   "metadata": {
    "executionInfo": {
     "elapsed": 10,
     "status": "ok",
     "timestamp": 1676251387138,
     "user": {
      "displayName": "Shridhar Kshirsagar",
      "userId": "07304630140660921448"
     },
     "user_tz": 360
    },
    "id": "a71c4e97"
   },
   "outputs": [],
   "source": [
    "@app.callback(Output('abstract_histogram', 'figure'),\n",
    "              Output('keyword_histogram', 'figure'),\n",
    "              Input('year_slider', 'value'))\n",
    "def update_histograms(slider_range):\n",
    "    low, high = slider_range\n",
    "    \n",
    "    # get subset of data\n",
    "    data_subset = get_year_subset(low, high, data)\n",
    "    \n",
    "    # create histograms of abstract and keyword\n",
    "    abtract_hist = build_histogram(data_subset, 'Abstract Length')\n",
    "    keyword_hist = build_histogram(data_subset, 'Number of Keywords')\n",
    "    \n",
    "    return abtract_hist, keyword_hist"
   ]
  },
  {
   "cell_type": "markdown",
   "id": "b3f1868c",
   "metadata": {
    "id": "b3f1868c"
   },
   "source": [
    "### Running Dash App"
   ]
  },
  {
   "cell_type": "code",
   "execution_count": 47,
   "id": "f78c8fb1",
   "metadata": {
    "colab": {
     "base_uri": "https://localhost:8080/",
     "height": 86
    },
    "executionInfo": {
     "elapsed": 149,
     "status": "ok",
     "timestamp": 1676251387277,
     "user": {
      "displayName": "Shridhar Kshirsagar",
      "userId": "07304630140660921448"
     },
     "user_tz": 360
    },
    "id": "f78c8fb1",
    "outputId": "9c660e1d-a9ec-4331-e15d-7cd9027c664c"
   },
   "outputs": [
    {
     "name": "stderr",
     "output_type": "stream",
     "text": [
      " * Running on http://127.0.0.1:5000/ (Press CTRL+C to quit)\n",
      "127.0.0.1 - - [05/Apr/2023 11:40:51] \"GET /_alive_e89031b7-b6cf-4446-9bcf-8fb6620111c7 HTTP/1.1\" 200 -\n"
     ]
    },
    {
     "name": "stdout",
     "output_type": "stream",
     "text": [
      "Dash app running on http://127.0.0.1:5000/\n"
     ]
    },
    {
     "name": "stderr",
     "output_type": "stream",
     "text": [
      "127.0.0.1 - - [05/Apr/2023 11:40:53] \"GET / HTTP/1.1\" 200 -\n",
      "127.0.0.1 - - [05/Apr/2023 11:40:53] \"GET /_dash-dependencies HTTP/1.1\" 200 -\n",
      "127.0.0.1 - - [05/Apr/2023 11:40:53] \"GET /_dash-layout HTTP/1.1\" 200 -\n",
      "127.0.0.1 - - [05/Apr/2023 11:40:54] \"GET /_dash-component-suites/dash/dcc/async-graph.js HTTP/1.1\" 200 -\n",
      "127.0.0.1 - - [05/Apr/2023 11:40:54] \"GET /_dash-component-suites/dash/dash_table/async-highlight.js HTTP/1.1\" 200 -\n",
      "127.0.0.1 - - [05/Apr/2023 11:40:54] \"GET /_dash-component-suites/dash/dcc/async-plotlyjs.js HTTP/1.1\" 200 -\n",
      "127.0.0.1 - - [05/Apr/2023 11:40:54] \"POST /_dash-update-component HTTP/1.1\" 200 -\n",
      "127.0.0.1 - - [05/Apr/2023 11:40:54] \"POST /_dash-update-component HTTP/1.1\" 200 -\n",
      "127.0.0.1 - - [05/Apr/2023 11:40:54] \"POST /_dash-update-component HTTP/1.1\" 200 -\n",
      "127.0.0.1 - - [05/Apr/2023 11:40:54] \"GET /_dash-component-suites/dash/dcc/async-slider.js HTTP/1.1\" 200 -\n",
      "127.0.0.1 - - [05/Apr/2023 11:40:54] \"GET /_dash-component-suites/dash/dash_table/async-table.js HTTP/1.1\" 200 -\n",
      "127.0.0.1 - - [05/Apr/2023 11:40:54] \"POST /_dash-update-component HTTP/1.1\" 200 -\n",
      "127.0.0.1 - - [05/Apr/2023 11:40:55] \"POST /_dash-update-component HTTP/1.1\" 200 -\n",
      "127.0.0.1 - - [05/Apr/2023 11:40:56] \"POST /_dash-update-component HTTP/1.1\" 500 -\n"
     ]
    }
   ],
   "source": [
    "if __name__ == '__main__':\n",
    "  app.run_server(mode='external', port=5000, debug=False)"
   ]
  },
  {
   "cell_type": "code",
   "execution_count": null,
   "id": "uutoAUkMGubi",
   "metadata": {
    "executionInfo": {
     "elapsed": 22,
     "status": "ok",
     "timestamp": 1676251387279,
     "user": {
      "displayName": "Shridhar Kshirsagar",
      "userId": "07304630140660921448"
     },
     "user_tz": 360
    },
    "id": "uutoAUkMGubi"
   },
   "outputs": [],
   "source": []
  },
  {
   "cell_type": "code",
   "execution_count": null,
   "id": "LN9l7olCG_RC",
   "metadata": {
    "executionInfo": {
     "elapsed": 24,
     "status": "ok",
     "timestamp": 1676251387283,
     "user": {
      "displayName": "Shridhar Kshirsagar",
      "userId": "07304630140660921448"
     },
     "user_tz": 360
    },
    "id": "LN9l7olCG_RC"
   },
   "outputs": [],
   "source": []
  },
  {
   "cell_type": "code",
   "execution_count": null,
   "id": "1fe03db0",
   "metadata": {},
   "outputs": [],
   "source": []
  },
  {
   "cell_type": "code",
   "execution_count": null,
   "id": "68cbd892",
   "metadata": {},
   "outputs": [],
   "source": []
  },
  {
   "cell_type": "code",
   "execution_count": null,
   "id": "c63b8115",
   "metadata": {},
   "outputs": [],
   "source": []
  }
 ],
 "metadata": {
  "accelerator": "TPU",
  "colab": {
   "collapsed_sections": [
    "c6f72bd8",
    "d8ca8648",
    "4f34be87",
    "d9a8c9df",
    "0762c9c9",
    "aeddcfa3",
    "6723cf02",
    "f8978b27",
    "3f946e2e",
    "3ede0a39",
    "b0d5d748",
    "b5a1f6a4",
    "cd203797"
   ],
   "machine_shape": "hm",
   "provenance": []
  },
  "kernelspec": {
   "display_name": "Python 3 (ipykernel)",
   "language": "python",
   "name": "python3"
  },
  "language_info": {
   "codemirror_mode": {
    "name": "ipython",
    "version": 3
   },
   "file_extension": ".py",
   "mimetype": "text/x-python",
   "name": "python",
   "nbconvert_exporter": "python",
   "pygments_lexer": "ipython3",
   "version": "3.9.13"
  }
 },
 "nbformat": 4,
 "nbformat_minor": 5
}
